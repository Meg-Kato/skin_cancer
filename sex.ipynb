{
 "cells": [
  {
   "cell_type": "code",
   "execution_count": 1,
   "metadata": {},
   "outputs": [
    {
     "name": "stderr",
     "output_type": "stream",
     "text": [
      "Using TensorFlow backend.\n"
     ]
    }
   ],
   "source": [
    "# import keras\n",
    "from sklearn.model_selection import train_test_split\n",
    "from sklearn.model_selection import StratifiedKFold\n",
    "\n",
    "import keras\n",
    "from keras.utils import to_categorical\n",
    "from keras import backend as K\n",
    "from keras.models import Sequential, Model\n",
    "from keras.layers import Conv2D, Activation, MaxPooling2D, Dense, Flatten, Dropout, BatchNormalization\n",
    "from keras.optimizers import rmsprop\n",
    "from keras.callbacks import EarlyStopping, ReduceLROnPlateau\n",
    "from keras.preprocessing.image import ImageDataGenerator\n",
    "from keras.models import load_model\n",
    "\n",
    "from termcolor import colored\n",
    "from PIL import Image\n",
    "import random\n",
    "import cv2\n",
    "import sys\n",
    "import re\n",
    "import glob\n",
    "import shutil\n",
    "import os\n",
    "import pandas as pd\n",
    "import matplotlib.pyplot as plt\n",
    "import numpy as np"
   ]
  },
  {
   "cell_type": "code",
   "execution_count": 2,
   "metadata": {},
   "outputs": [],
   "source": [
    "file_path = \"./HAM10000_metadata.csv\"\n",
    "data_type = {0:'nv', 1:'mel', 2:'bcc'}\n",
    "img_dir = './dataset/img'\n",
    "pre_dir = './ham10000_images'\n",
    "batch_size = 512\n",
    "num_classes = 3\n",
    "epochs = 100\n",
    "nv_cancer_labels = np.array([\n",
    "    'nv',\n",
    "    'mel',\n",
    "    'bcc'\n",
    "])"
   ]
  },
  {
   "cell_type": "code",
   "execution_count": 3,
   "metadata": {},
   "outputs": [],
   "source": [
    "df = pd.read_csv(file_path)"
   ]
  },
  {
   "cell_type": "code",
   "execution_count": 4,
   "metadata": {},
   "outputs": [],
   "source": [
    "df_sex = df[df['sex'] == 'female']"
   ]
  },
  {
   "cell_type": "code",
   "execution_count": 5,
   "metadata": {},
   "outputs": [],
   "source": [
    "def moveimg_sex(data_type:dict, img_dir:str, pre_dir:str):\n",
    "    for num in range(3):\n",
    "        df_type = df_sex[df_sex['dx'] == data_type[num]]\n",
    "        filename_type = df_type['image_id'].values\n",
    "        for i in range(len(filename_type)):\n",
    "            image_id_type = filename_type[i]\n",
    "            newfile = f'{img_dir}/sex/{data_type[num]}/{data_type[num]}{i}.jpg'\n",
    "            shutil.copy2(f'{pre_dir}/{image_id_type}.jpg', newfile)\n",
    "            img = cv2.imread(newfile)\n",
    "            height = img.shape[0]\n",
    "            width = img.shape[1]\n",
    "            img2 = cv2.resize(img, (int(width/6), int(height/6)))\n",
    "            cv2.imwrite(newfile, img2)\n",
    "            \n",
    "def numericalSort(value):\n",
    "    numbers = re.compile(r'(\\d+)')\n",
    "    parts = numbers.split(value)\n",
    "    parts[1::2] = map(int, parts[1::2])\n",
    "    return parts\n",
    "\n",
    "def get_aug_path(data_type:str, img_dir:str):\n",
    "    path = f\"{img_dir}/sex/{data_type}/{data_type}*\"\n",
    "    flist = sorted(glob.glob(path), key=numericalSort)\n",
    "    return flist\n",
    "\n",
    "def img_array(data_type:str, img_dir:str, data_num:int):\n",
    "    img_array = np.zeros((data_num, 75, 100, 3))\n",
    "    img_path = get_aug_path(data_type, img_dir)\n",
    "    for i in range(data_num):\n",
    "#         img_array[i] += np.array(((Image.open(img_path[i])).convert('L')))\n",
    "        img_array[i] += np.array(Image.open(img_path[i]))\n",
    "    img_train, img_test = train_test_split(img_array, train_size= 0.8)\n",
    "    return img_train, img_test\n",
    "\n",
    "def dataset(dataset:int, data1:list, data2:list, data3:list):\n",
    "    datasets = {0:157, 1:40}\n",
    "    data = {0:data1, 1:data2, 2:data3}\n",
    "    x = np.zeros((datasets[dataset]*3, 75, 100, 3))\n",
    "    for i in range(datasets[dataset]):\n",
    "        for num in range(3):\n",
    "            data_num = data[num][i]\n",
    "            x[(3*i)+num] += data_num\n",
    "    return x\n",
    "\n",
    "def plot_history_lost(hist):\n",
    "    plt.plot(hist.history['loss'], label='loss for training')\n",
    "    plt.plot(hist.history['val_loss'], label='loss for validation')\n",
    "    plt.title('model loss')\n",
    "    plt.xlabel('epoch')\n",
    "    plt.ylabel('loss')\n",
    "    plt.legend(loc='best')\n",
    "    plt.show()\n",
    "    \n",
    "def plot_history_acc(hist):\n",
    "    plt.plot(hist.history['acc'], label='accuracy for validation')\n",
    "    plt.plot(hist.history['val_acc'], label='accuracy for validation')\n",
    "    plt.title('model accuracy')\n",
    "    plt.xlabel('epoch')\n",
    "    plt.ylabel('acuuracy')\n",
    "    plt.ylim([0,1])\n",
    "    plt.show()"
   ]
  },
  {
   "cell_type": "code",
   "execution_count": 6,
   "metadata": {},
   "outputs": [],
   "source": [
    "# moveimg_sex(data_type, img_dir, pre_dir)"
   ]
  },
  {
   "cell_type": "code",
   "execution_count": 7,
   "metadata": {},
   "outputs": [
    {
     "data": {
      "text/plain": [
       "157"
      ]
     },
     "execution_count": 7,
     "metadata": {},
     "output_type": "execute_result"
    }
   ],
   "source": [
    "int(197*0.8)"
   ]
  },
  {
   "cell_type": "code",
   "execution_count": 8,
   "metadata": {},
   "outputs": [
    {
     "name": "stderr",
     "output_type": "stream",
     "text": [
      "/home/deepstation/.pyenv/versions/anaconda3-5.1.0/lib/python3.6/site-packages/sklearn/model_selection/_split.py:2026: FutureWarning: From version 0.21, test_size will always complement train_size unless both are specified.\n",
      "  FutureWarning)\n"
     ]
    }
   ],
   "source": [
    "nv_train, nv_test = img_array(data_type[0], img_dir, 197)\n",
    "mel_train, mel_test = img_array(data_type[1], img_dir, 197)\n",
    "bcc_train, bcc_test = img_array(data_type[2], img_dir, 197)"
   ]
  },
  {
   "cell_type": "code",
   "execution_count": 9,
   "metadata": {},
   "outputs": [],
   "source": [
    "_x_train = dataset(0, nv_train, mel_train, bcc_train)\n",
    "_x_train = _x_train.reshape((_x_train.shape[0],75,100,3))\n",
    "_x_test = dataset(1, nv_test, mel_test, bcc_test)\n",
    "_x_test = _x_test.reshape((_x_test.shape[0],75,100,3))\n",
    "_y_train = np.array([0, 1, 2]*nv_train.shape[0])\n",
    "_y_test = np.array([0, 1, 2]*nv_test.shape[0])\n",
    "\n",
    "\n",
    "x_train_mean = np.mean(_x_train)\n",
    "x_test_mean = np.mean(_x_test)\n",
    "x_train_std = np.std(_x_train)\n",
    "x_test_std = np.std(_x_test)\n",
    "\n",
    "x_train = (_x_train - x_train_mean)/x_train_std\n",
    "x_test = (_x_test - x_test_mean)/x_test_std\n",
    "y_train = to_categorical(_y_train)\n",
    "y_test = to_categorical(_y_test)\n",
    "\n",
    "x_train, x_validate, y_train, y_validate = train_test_split(x_train, y_train, test_size = 0.1, random_state = 2)"
   ]
  },
  {
   "cell_type": "code",
   "execution_count": 10,
   "metadata": {},
   "outputs": [
    {
     "name": "stdout",
     "output_type": "stream",
     "text": [
      "\n",
      "Dataset shape\n",
      "x_train: (423, 75, 100, 3) |-> y_train: (423, 3),\n",
      "x_test: (120, 75, 100, 3) |-> y_test: (120, 3),\n",
      "x_validate: (48, 75, 100, 3) |-> y_validate: (48, 3)\n"
     ]
    }
   ],
   "source": [
    "print(f'''\n",
    "Dataset shape\n",
    "x_train: {x_train.shape} |-> y_train: {y_train.shape},\n",
    "x_test: {x_test.shape} |-> y_test: {y_test.shape},\n",
    "x_validate: {x_validate.shape} |-> y_validate: {y_validate.shape}''')"
   ]
  },
  {
   "cell_type": "code",
   "execution_count": 16,
   "metadata": {},
   "outputs": [],
   "source": [
    "model = Sequential()\n",
    "model.add(Conv2D(16, (3,3), padding='same', input_shape=x_train.shape[1:]))\n",
    "model.add(Conv2D(64, (3,3), padding='same'))\n",
    "model.add(Activation('relu'))\n",
    "model.add(MaxPooling2D((2,2)))\n",
    "# model.add(BatchNormalization())\n",
    "model.add(Dropout(0.2))\n",
    "\n",
    "# model.add(Conv2D(64, (4,4), padding='same'))\n",
    "# model.add(Activation('relu'))\n",
    "# model.add(MaxPooling2D((2,2)))\n",
    "# # model.add(BatchNormalization())\n",
    "# model.add(Dropout(0.2))\n",
    "\n",
    "model.add(Flatten())\n",
    "model.add(Dense(64))\n",
    "model.add(Activation('relu'))\n",
    "model.add(Dropout(0.5))\n",
    "model.add(Dense(num_classes))\n",
    "model.add(Activation('softmax'))\n",
    "\n",
    "es = EarlyStopping(monitor='val_loss', patience=10, verbose=0, mode='min')\n",
    "# opt = keras.optimizers.rmsprop(lr=0.0001, decay=1e-6)\n",
    "opt = keras.optimizers.rmsprop()\n",
    "model.compile(loss='categorical_crossentropy',\n",
    "              optimizer=opt,\n",
    "              metrics=['accuracy'])"
   ]
  },
  {
   "cell_type": "code",
   "execution_count": 17,
   "metadata": {},
   "outputs": [
    {
     "name": "stdout",
     "output_type": "stream",
     "text": [
      "Train on 423 samples, validate on 120 samples\n",
      "Epoch 1/100\n",
      "423/423 [==============================] - 1s 3ms/step - loss: 1.3708 - acc: 0.3522 - val_loss: 5.9676 - val_acc: 0.6000\n",
      "Epoch 2/100\n",
      "423/423 [==============================] - 0s 328us/step - loss: 8.2351 - acc: 0.4634 - val_loss: 5.8470 - val_acc: 0.6167\n",
      "Epoch 3/100\n",
      "423/423 [==============================] - 0s 328us/step - loss: 6.0675 - acc: 0.5887 - val_loss: 5.3519 - val_acc: 0.6250\n",
      "Epoch 4/100\n",
      "423/423 [==============================] - 0s 324us/step - loss: 6.2070 - acc: 0.5414 - val_loss: 4.9706 - val_acc: 0.6417\n",
      "Epoch 5/100\n",
      "423/423 [==============================] - 0s 321us/step - loss: 5.0678 - acc: 0.6288 - val_loss: 6.0848 - val_acc: 0.5583\n",
      "Epoch 6/100\n",
      "423/423 [==============================] - 0s 324us/step - loss: 7.0203 - acc: 0.4965 - val_loss: 2.6904 - val_acc: 0.7500\n",
      "Epoch 7/100\n",
      "423/423 [==============================] - 0s 322us/step - loss: 2.9796 - acc: 0.7376 - val_loss: 2.2206 - val_acc: 0.7917\n",
      "Epoch 8/100\n",
      "423/423 [==============================] - 0s 324us/step - loss: 3.4186 - acc: 0.6950 - val_loss: 3.8435 - val_acc: 0.6917\n",
      "Epoch 9/100\n",
      "423/423 [==============================] - 0s 321us/step - loss: 3.4000 - acc: 0.6879 - val_loss: 2.3269 - val_acc: 0.7750\n",
      "Epoch 10/100\n",
      "423/423 [==============================] - 0s 326us/step - loss: 3.5714 - acc: 0.6454 - val_loss: 3.4230 - val_acc: 0.6500\n",
      "Epoch 11/100\n",
      "423/423 [==============================] - 0s 321us/step - loss: 2.8836 - acc: 0.7139 - val_loss: 1.2958 - val_acc: 0.7750\n",
      "Epoch 12/100\n",
      "423/423 [==============================] - 0s 322us/step - loss: 1.6768 - acc: 0.8014 - val_loss: 0.7710 - val_acc: 0.8417\n",
      "Epoch 13/100\n",
      "423/423 [==============================] - 0s 320us/step - loss: 1.3890 - acc: 0.7683 - val_loss: 1.4512 - val_acc: 0.8000\n",
      "Epoch 14/100\n",
      "423/423 [==============================] - 0s 322us/step - loss: 1.2076 - acc: 0.7778 - val_loss: 0.5114 - val_acc: 0.8000\n",
      "Epoch 15/100\n",
      "423/423 [==============================] - 0s 324us/step - loss: 0.8348 - acc: 0.8180 - val_loss: 0.6964 - val_acc: 0.8167\n",
      "Epoch 16/100\n",
      "423/423 [==============================] - 0s 359us/step - loss: 0.6611 - acc: 0.7825 - val_loss: 0.3999 - val_acc: 0.8083\n",
      "Epoch 17/100\n",
      "423/423 [==============================] - 0s 367us/step - loss: 0.4817 - acc: 0.8298 - val_loss: 0.4039 - val_acc: 0.8083\n",
      "Epoch 18/100\n",
      "423/423 [==============================] - 0s 325us/step - loss: 0.4140 - acc: 0.8298 - val_loss: 0.3921 - val_acc: 0.8583\n",
      "Epoch 19/100\n",
      "423/423 [==============================] - 0s 323us/step - loss: 0.4254 - acc: 0.8487 - val_loss: 0.4099 - val_acc: 0.8333\n",
      "Epoch 20/100\n",
      "423/423 [==============================] - 0s 326us/step - loss: 0.3409 - acc: 0.8558 - val_loss: 0.3939 - val_acc: 0.8250\n",
      "Epoch 21/100\n",
      "423/423 [==============================] - 0s 323us/step - loss: 0.4227 - acc: 0.8298 - val_loss: 0.6930 - val_acc: 0.7917\n",
      "Epoch 22/100\n",
      "423/423 [==============================] - 0s 323us/step - loss: 0.5718 - acc: 0.8109 - val_loss: 0.4303 - val_acc: 0.8500\n",
      "Epoch 23/100\n",
      "423/423 [==============================] - 0s 323us/step - loss: 0.3801 - acc: 0.8652 - val_loss: 0.4825 - val_acc: 0.8250\n",
      "Epoch 24/100\n",
      "423/423 [==============================] - 0s 323us/step - loss: 0.3915 - acc: 0.8605 - val_loss: 0.3895 - val_acc: 0.8917\n",
      "Epoch 25/100\n",
      "423/423 [==============================] - 0s 327us/step - loss: 0.3409 - acc: 0.8700 - val_loss: 0.4585 - val_acc: 0.8500\n",
      "Epoch 26/100\n",
      "423/423 [==============================] - 0s 360us/step - loss: 0.3059 - acc: 0.8818 - val_loss: 0.4254 - val_acc: 0.8500\n",
      "Epoch 27/100\n",
      "423/423 [==============================] - 0s 359us/step - loss: 0.3163 - acc: 0.8794 - val_loss: 0.4768 - val_acc: 0.8500\n",
      "Epoch 28/100\n",
      "423/423 [==============================] - 0s 325us/step - loss: 0.2958 - acc: 0.8629 - val_loss: 0.3313 - val_acc: 0.8833\n",
      "Epoch 29/100\n",
      "423/423 [==============================] - 0s 323us/step - loss: 0.2717 - acc: 0.8794 - val_loss: 0.5560 - val_acc: 0.7917\n",
      "Epoch 30/100\n",
      "423/423 [==============================] - 0s 324us/step - loss: 0.3209 - acc: 0.8747 - val_loss: 0.4318 - val_acc: 0.8583\n",
      "Epoch 31/100\n",
      "423/423 [==============================] - 0s 322us/step - loss: 0.3454 - acc: 0.8558 - val_loss: 0.5573 - val_acc: 0.8167\n",
      "Epoch 32/100\n",
      "423/423 [==============================] - 0s 331us/step - loss: 0.3900 - acc: 0.8345 - val_loss: 0.4024 - val_acc: 0.8417\n",
      "Epoch 33/100\n",
      "423/423 [==============================] - 0s 355us/step - loss: 0.3279 - acc: 0.8865 - val_loss: 0.5489 - val_acc: 0.7917\n",
      "Epoch 34/100\n",
      "423/423 [==============================] - 0s 340us/step - loss: 0.2684 - acc: 0.8913 - val_loss: 0.3749 - val_acc: 0.8667\n",
      "Epoch 35/100\n",
      "423/423 [==============================] - 0s 325us/step - loss: 0.2675 - acc: 0.8889 - val_loss: 0.5446 - val_acc: 0.7833\n",
      "Epoch 36/100\n",
      "423/423 [==============================] - 0s 325us/step - loss: 0.2823 - acc: 0.8676 - val_loss: 0.6201 - val_acc: 0.8250\n",
      "Epoch 37/100\n",
      "423/423 [==============================] - 0s 352us/step - loss: 0.4751 - acc: 0.8109 - val_loss: 0.7348 - val_acc: 0.7417\n",
      "Epoch 38/100\n",
      "423/423 [==============================] - 0s 362us/step - loss: 0.6083 - acc: 0.7920 - val_loss: 0.6988 - val_acc: 0.7667\n",
      "Test loss: 0.6988369305928548\n",
      "Test accuracy: 0.7666666626930236\n"
     ]
    }
   ],
   "source": [
    "history = model.fit(x_train,\n",
    "                    y_train,\n",
    "                    batch_size=batch_size,\n",
    "                    epochs=epochs,\n",
    "                    validation_data=(x_test, y_test),\n",
    "                    callbacks=[es])\n",
    "\n",
    "model.save('./hist/nv_cancer_cnn_raw_female3.h5')\n",
    "score = model.evaluate(x_test, y_test, verbose=0)\n",
    "print('Test loss:', score[0])\n",
    "print('Test accuracy:', score[1])"
   ]
  },
  {
   "cell_type": "code",
   "execution_count": 18,
   "metadata": {},
   "outputs": [
    {
     "data": {
      "image/png": "[encoded data removed]",
      "text/plain": [
       "<matplotlib.figure.Figure at 0x7f1ffb8cd240>"
      ]
     },
     "metadata": {},
     "output_type": "display_data"
    },
    {
     "data": {
      "image/png": "[encoded data removed]",
      "text/plain": [
       "<matplotlib.figure.Figure at 0x7f1ffb8cd320>"
      ]
     },
     "metadata": {},
     "output_type": "display_data"
    }
   ],
   "source": [
    "plot_history_lost(history)\n",
    "plot_history_acc(history)"
   ]
  },
  {
   "cell_type": "code",
   "execution_count": 21,
   "metadata": {},
   "outputs": [],
   "source": [
    "model = load_model('./hist/nv_cancer_cnn_raw_female2.h5')"
   ]
  },
  {
   "cell_type": "code",
   "execution_count": 22,
   "metadata": {},
   "outputs": [
    {
     "name": "stdout",
     "output_type": "stream",
     "text": [
      "The number of correct answers:  2940\n",
      "The number of mistakes:  60\n",
      "A correct answer rate:  98.0 %\n"
     ]
    }
   ],
   "source": [
    "right = 0\n",
    "mistake = 0\n",
    "\n",
    "for j in range(30):\n",
    "    index = np.zeros(100)\n",
    "    for i in range(100):\n",
    "        index[i] += random.randint(0,x_validate.shape[0]-1)\n",
    "\n",
    "    for i in range(100):\n",
    "        num = int(index[i])\n",
    "        image = x_validate[num]\n",
    "        for k in [0,1,2]:\n",
    "            if y_validate[num][k] == 1:\n",
    "                ans = k\n",
    "        data = x_validate[num].reshape((1, 75, 100, 3))\n",
    "\n",
    "        pred = model.predict(data, batch_size=64)\n",
    "        bestnum  = 0.0\n",
    "        bestclass = 0\n",
    "        for n in [0,1,2]:\n",
    "            if bestnum < pred[0][n]:\n",
    "                bestnum = pred[0][n]\n",
    "                bestclass = n\n",
    "\n",
    "        if bestclass == ans:\n",
    "            right += 1\n",
    "        else:\n",
    "            mistake += 1\n",
    "        \n",
    "print(\"The number of correct answers: \", right)\n",
    "print(\"The number of mistakes: \", mistake)\n",
    "print (\"A correct answer rate: \", right/(mistake + right) * 100, '%')"
   ]
  },
  {
   "cell_type": "code",
   "execution_count": 46,
   "metadata": {},
   "outputs": [
    {
     "name": "stdout",
     "output_type": "stream",
     "text": [
      "nv2_1.jpg:nv\n",
      "\u001b[31mnv6_1.jpg:mel\u001b[0m\n",
      "\u001b[31mmel8_1.jpg:nv\u001b[0m\n",
      "mel1_1.jpg:mel\n",
      "bcc2_1.jpg:bcc\n",
      "mel15_1.jpg:mel\n",
      "bcc9_1.jpg:bcc\n",
      "bcc3_1.jpg:bcc\n",
      "bcc16_1.jpg:bcc\n",
      "bcc13_1.jpg:bcc\n",
      "bcc17_1.jpg:bcc\n",
      "mel3_1.jpg:mel\n",
      "\u001b[31mmel13_1.jpg:bcc\u001b[0m\n",
      "mel16_1.jpg:mel\n",
      "mel5_1.jpg:mel\n",
      "bcc15_1.jpg:bcc\n",
      "nv12_1.jpg:nv\n",
      "mel18_1.jpg:mel\n",
      "mel0_1.jpg:mel\n",
      "bcc12_1.jpg:bcc\n",
      "bcc18_1.jpg:bcc\n",
      "bcc14_1.jpg:bcc\n",
      "mel6_1.jpg:mel\n",
      "bcc8_1.jpg:bcc\n",
      "\u001b[31mnv7_1.jpg:mel\u001b[0m\n",
      "\u001b[31mmel4_1.jpg:nv\u001b[0m\n",
      "bcc5_1.jpg:bcc\n",
      "nv10_1.jpg:nv\n",
      "nv11_1.jpg:nv\n",
      "bcc6_1.jpg:bcc\n",
      "bcc0_1.jpg:bcc\n",
      "bcc1_1.jpg:bcc\n",
      "nv13_1.jpg:nv\n",
      "bcc11_1.jpg:bcc\n",
      "bcc10_1.jpg:bcc\n",
      "\u001b[31mnv8_1.jpg:mel\u001b[0m\n",
      "mel17_1.jpg:mel\n",
      "bcc4_1.jpg:bcc\n",
      "bcc7_1.jpg:bcc\n",
      "mel7_1.jpg:mel\n",
      "mel10_1.jpg:mel\n",
      "\u001b[31mmel12_1.jpg:nv\u001b[0m\n",
      "mel9_1.jpg:mel\n",
      "mel11_1.jpg:mel\n",
      "\u001b[31mmel2_1.jpg:bcc\u001b[0m\n",
      "bcc19_1.jpg:bcc\n",
      "mel14_1.jpg:mel\n",
      "acc:82.97872340425532%\n"
     ]
    }
   ],
   "source": [
    "sample_files = glob.glob('./dataset/img/sample/all/*')\n",
    "\n",
    "right = 0\n",
    "wrong = 0\n",
    "for sample_file in sample_files:\n",
    "#     sample_img = np.array((Image.open(sample_file)).convert('L'))\n",
    "    sample_img = np.array((Image.open(sample_file)))\n",
    "    norm_img = (sample_img - np.mean(sample_img))/np.std(sample_img)\n",
    "    sample_data = norm_img.reshape((1, 75, 100, 3))\n",
    "    pred = model.predict(sample_data)\n",
    "    bestnum  = 0.0\n",
    "    bestclass = 0\n",
    "    for n in [0,1,2]:\n",
    "        if bestnum < pred[0][n]:\n",
    "            bestnum = pred[0][n]\n",
    "            bestclass = n\n",
    "    if sample_file[25:26] == 'n':\n",
    "        ans = 0\n",
    "    elif sample_file[25:26] == 'm':\n",
    "        ans = 1\n",
    "    else:\n",
    "        ans = 2\n",
    "    if ans == bestclass:\n",
    "        print(f'{sample_file[25:]}:{data_type[bestclass]}')\n",
    "        right += 1\n",
    "    else:\n",
    "        print(colored(f'{sample_file[25:]}:{data_type[bestclass]}', 'red'))\n",
    "        wrong += 1\n",
    "acc = right / (right + wrong) * 100\n",
    "print(f'acc:{acc}%')"
   ]
  },
  {
   "cell_type": "code",
   "execution_count": null,
   "metadata": {},
   "outputs": [],
   "source": []
  }
 ],
 "metadata": {
  "kernelspec": {
   "display_name": "Python 3",
   "language": "python",
   "name": "python3"
  },
  "language_info": {
   "codemirror_mode": {
    "name": "ipython",
    "version": 3
   },
   "file_extension": ".py",
   "mimetype": "text/x-python",
   "name": "python",
   "nbconvert_exporter": "python",
   "pygments_lexer": "ipython3",
   "version": "3.6.6"
  }
 },
 "nbformat": 4,
 "nbformat_minor": 2
}
