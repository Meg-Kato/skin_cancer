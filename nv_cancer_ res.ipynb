{
 "cells": [
  {
   "cell_type": "code",
   "execution_count": 13,
   "metadata": {},
   "outputs": [],
   "source": [
    "import pandas as pd\n",
    "import shutil\n",
    "import os"
   ]
  },
  {
   "cell_type": "code",
   "execution_count": 14,
   "metadata": {},
   "outputs": [],
   "source": [
    "file_path = \"./HAM10000_metadata.csv\"\n",
    "data_type = {0:'nv', 1:'mel', 2:'bcc'}\n",
    "img_dir = './dataset/img'\n",
    "pre_dir = './ham10000_images'\n",
    "# img_dir1 = './ham10000_images_part_1'\n",
    "# img_dir2 = './ham10000_images_part_1'"
   ]
  },
  {
   "cell_type": "code",
   "execution_count": 3,
   "metadata": {},
   "outputs": [],
   "source": [
    "df = pd.read_csv(file_path)"
   ]
  },
  {
   "cell_type": "code",
   "execution_count": 4,
   "metadata": {},
   "outputs": [
    {
     "ename": "NameError",
     "evalue": "name 'df1_bcc' is not defined",
     "output_type": "error",
     "traceback": [
      "\u001b[0;31m---------------------------------------------------------------------------\u001b[0m",
      "\u001b[0;31mNameError\u001b[0m                                 Traceback (most recent call last)",
      "\u001b[0;32m<ipython-input-4-82d0834267ca>\u001b[0m in \u001b[0;36m<module>\u001b[0;34m()\u001b[0m\n\u001b[0;32m----> 1\u001b[0;31m \u001b[0mprint\u001b[0m\u001b[0;34m(\u001b[0m\u001b[0mlen\u001b[0m\u001b[0;34m(\u001b[0m\u001b[0mdf1_bcc\u001b[0m\u001b[0;34m)\u001b[0m\u001b[0;34m)\u001b[0m\u001b[0;34m\u001b[0m\u001b[0m\n\u001b[0m\u001b[1;32m      2\u001b[0m \u001b[0mprint\u001b[0m\u001b[0;34m(\u001b[0m\u001b[0mlen\u001b[0m\u001b[0;34m(\u001b[0m\u001b[0mdf1_mel\u001b[0m\u001b[0;34m)\u001b[0m\u001b[0;34m)\u001b[0m\u001b[0;34m\u001b[0m\u001b[0m\n\u001b[1;32m      3\u001b[0m \u001b[0mprint\u001b[0m\u001b[0;34m(\u001b[0m\u001b[0mlen\u001b[0m\u001b[0;34m(\u001b[0m\u001b[0mdf1_nv\u001b[0m\u001b[0;34m)\u001b[0m\u001b[0;34m)\u001b[0m\u001b[0;34m\u001b[0m\u001b[0m\n",
      "\u001b[0;31mNameError\u001b[0m: name 'df1_bcc' is not defined"
     ]
    }
   ],
   "source": [
    "print(len(df1_bcc))\n",
    "print(len(df1_mel))\n",
    "print(len(df1_nv))"
   ]
  },
  {
   "cell_type": "code",
   "execution_count": 5,
   "metadata": {},
   "outputs": [
    {
     "data": {
      "text/html": [
       "<div>\n",
       "<style scoped>\n",
       "    .dataframe tbody tr th:only-of-type {\n",
       "        vertical-align: middle;\n",
       "    }\n",
       "\n",
       "    .dataframe tbody tr th {\n",
       "        vertical-align: top;\n",
       "    }\n",
       "\n",
       "    .dataframe thead th {\n",
       "        text-align: right;\n",
       "    }\n",
       "</style>\n",
       "<table border=\"1\" class=\"dataframe\">\n",
       "  <thead>\n",
       "    <tr style=\"text-align: right;\">\n",
       "      <th></th>\n",
       "      <th>lesion_id</th>\n",
       "      <th>image_id</th>\n",
       "      <th>dx</th>\n",
       "      <th>dx_type</th>\n",
       "      <th>age</th>\n",
       "      <th>sex</th>\n",
       "      <th>localization</th>\n",
       "    </tr>\n",
       "  </thead>\n",
       "  <tbody>\n",
       "    <tr>\n",
       "      <th>0</th>\n",
       "      <td>HAM_0000118</td>\n",
       "      <td>ISIC_0027419</td>\n",
       "      <td>bkl</td>\n",
       "      <td>histo</td>\n",
       "      <td>80.0</td>\n",
       "      <td>male</td>\n",
       "      <td>scalp</td>\n",
       "    </tr>\n",
       "  </tbody>\n",
       "</table>\n",
       "</div>"
      ],
      "text/plain": [
       "     lesion_id      image_id   dx dx_type   age   sex localization\n",
       "0  HAM_0000118  ISIC_0027419  bkl   histo  80.0  male        scalp"
      ]
     },
     "execution_count": 5,
     "metadata": {},
     "output_type": "execute_result"
    }
   ],
   "source": [
    "df[:1]"
   ]
  },
  {
   "cell_type": "code",
   "execution_count": 6,
   "metadata": {},
   "outputs": [],
   "source": [
    "def moveimg(data_type:dict, img_dir:str, pre_dir:str):\n",
    "    for num in range(3):\n",
    "        df_type = df[df['dx'] == data_type[num]]\n",
    "        filename_type = df_type['image_id'].values\n",
    "        for i in range(len(filename_type)):\n",
    "            image_id_type = filename_type[i]\n",
    "            shutil.copy2(f'{pre_dir}/{image_id_type}.jpg', f'{img_dir}/{data_type[num]}/{data_type[num]}{i}.jpg')"
   ]
  },
  {
   "cell_type": "code",
   "execution_count": 7,
   "metadata": {},
   "outputs": [],
   "source": [
    "moveimg(data_type, img_dir, pre_dir)"
   ]
  },
  {
   "cell_type": "code",
   "execution_count": 8,
   "metadata": {},
   "outputs": [],
   "source": [
    "df_bcc = df[df['dx'] == 'bcc']"
   ]
  },
  {
   "cell_type": "code",
   "execution_count": null,
   "metadata": {},
   "outputs": [],
   "source": []
  },
  {
   "cell_type": "markdown",
   "metadata": {},
   "source": [
    "## preprocess"
   ]
  },
  {
   "cell_type": "markdown",
   "metadata": {},
   "source": [
    "#### resize"
   ]
  },
  {
   "cell_type": "code",
   "execution_count": 15,
   "metadata": {},
   "outputs": [],
   "source": [
    "import cv2\n",
    "import numpy as np"
   ]
  },
  {
   "cell_type": "code",
   "execution_count": 5,
   "metadata": {},
   "outputs": [],
   "source": [
    "def resizeimg(img_file:str):\n",
    "    img = cv2.imread(img_file)\n",
    "    height = img.shape[0]\n",
    "    width  = img.shape[1]\n",
    "    img2 = cv2.resize(img, (int(width*0.5), int(height*0.50)))\n",
    "    return img2\n",
    "\n",
    "def save_img(data_type:dict, img_dir:str):\n",
    "    for num in range(3):\n",
    "        for i in range(len(df[df['dx'] == data_type[num]])):\n",
    "            img_file = f'{img_dir}/{data_type[num]}/{data_type[num]}{i}.jpg'\n",
    "            new_img = resizeimg(img_file)\n",
    "            cv2.imwrite(f\"{img_dir}/half_size/{data_type[num]}/{data_type[num]}{i}.jpg\", new_img)\n",
    "        \n",
    "def addarray(arr1:list, arr2:list):\n",
    "    if arr1.ndim == 3:\n",
    "        zeroarray = np.zeros((2, arr2.shape[0], arr2.shape[1], 3))\n",
    "        zeroarray[0] += arr1\n",
    "        zeroarray[1] += arr2\n",
    "    else:\n",
    "        zeroarray= np.zeros((arr1.shape[0]+1, arr2.shape[0], arr2.shape[1], 3))\n",
    "        for i in range(arr1.shape[0]):\n",
    "            zeroarray[i] += arr1[i]\n",
    "        zeroarray[zeroarray.shape[0]-1] += arr2\n",
    "    return zeroarray"
   ]
  },
  {
   "cell_type": "code",
   "execution_count": 6,
   "metadata": {},
   "outputs": [],
   "source": [
    "save_img(data_type, img_dir)"
   ]
  },
  {
   "cell_type": "markdown",
   "metadata": {},
   "source": [
    "#### augumentation"
   ]
  },
  {
   "cell_type": "code",
   "execution_count": 9,
   "metadata": {},
   "outputs": [],
   "source": [
    "import sys\n",
    "import re\n",
    "import glob"
   ]
  },
  {
   "cell_type": "code",
   "execution_count": 11,
   "metadata": {},
   "outputs": [],
   "source": [
    "# ヒストグラム均一化\n",
    "def equalizeHistRGB(src):\n",
    "\n",
    "    RGB = cv2.split(src)\n",
    "    Blue   = RGB[0]\n",
    "    Green = RGB[1]\n",
    "    Red    = RGB[2]\n",
    "    for i in range(3):\n",
    "        cv2.equalizeHist(RGB[i])\n",
    "\n",
    "    img_hist = cv2.merge([RGB[0],RGB[1], RGB[2]])\n",
    "    return img_hist\n",
    "\n",
    "# ガウシアンノイズ\n",
    "def addGaussianNoise(src):\n",
    "    row,col,ch= src.shape\n",
    "    mean = 0\n",
    "    var = 0.1\n",
    "    sigma = 15\n",
    "    gauss = np.random.normal(mean,sigma,(row,col,ch))\n",
    "    gauss = gauss.reshape(row,col,ch)\n",
    "    noisy = src + gauss\n",
    "\n",
    "    return noisy\n",
    "\n",
    "# salt&pepperノイズ\n",
    "def addSaltPepperNoise(src):\n",
    "    row,col,ch = src.shape\n",
    "    s_vs_p = 0.5\n",
    "    amount = 0.004\n",
    "    out = src.copy()\n",
    "    # Salt mode\n",
    "    num_salt = np.ceil(amount * src.size * s_vs_p)\n",
    "    coords = [np.random.randint(0, i-1 , int(num_salt))\n",
    "                 for i in src.shape]\n",
    "    out[coords[:-1]] = (255,255,255)\n",
    "\n",
    "    # Pepper mode\n",
    "    num_pepper = np.ceil(amount* src.size * (1. - s_vs_p))\n",
    "    coords = [np.random.randint(0, i-1 , int(num_pepper))\n",
    "             for i in src.shape]\n",
    "    out[coords[:-1]] = (0,0,0)\n",
    "    return out\n",
    "\n",
    "def numericalSort(value):\n",
    "    numbers = re.compile(r'(\\d+)')\n",
    "    parts = numbers.split(value)\n",
    "    parts[1::2] = map(int, parts[1::2])\n",
    "    return parts\n",
    "\n",
    "def get_path(data_type:str, img_dir:str):\n",
    "    path = f\"{img_dir}/resize_img/{data_type}/{data_type}*\"\n",
    "    flist = sorted(glob.glob(path), key=numericalSort)\n",
    "    return flist"
   ]
  },
  {
   "cell_type": "code",
   "execution_count": 8,
   "metadata": {},
   "outputs": [],
   "source": [
    "if __name__ == '__main__':\n",
    "    # ルックアップテーブルの生成\n",
    "    min_table = 50\n",
    "    max_table = 205\n",
    "    diff_table = max_table - min_table\n",
    "    gamma1 = 0.75\n",
    "    gamma2 = 1.5\n",
    "\n",
    "    LUT_HC = np.arange(256, dtype = 'uint8' )\n",
    "    LUT_LC = np.arange(256, dtype = 'uint8' )\n",
    "    LUT_G1 = np.arange(256, dtype = 'uint8' )\n",
    "    LUT_G2 = np.arange(256, dtype = 'uint8' )\n",
    "\n",
    "    LUTs = []\n",
    "\n",
    "    # 平滑化用\n",
    "    average_square = (2, 2)\n",
    "\n",
    "    # ハイコントラストLUT作成\n",
    "    for i in range(0, min_table):\n",
    "        LUT_HC[i] = 0\n",
    "\n",
    "    for i in range(min_table, max_table):\n",
    "        LUT_HC[i] = 255 * (i - min_table) / diff_table\n",
    "\n",
    "    for i in range(max_table, 255):\n",
    "        LUT_HC[i] = 255\n",
    "\n",
    "    # その他LUT作成\n",
    "    for i in range(256):\n",
    "        LUT_LC[i] = min_table + i * (diff_table) / 255\n",
    "        LUT_G1[i] = 255 * pow(float(i) / 255, 1.0 / gamma1) \n",
    "        LUT_G2[i] = 255 * pow(float(i) / 255, 1.0 / gamma2)\n",
    "\n",
    "    LUTs.append(LUT_HC)\n",
    "    LUTs.append(LUT_LC)\n",
    "    LUTs.append(LUT_G1)\n",
    "    LUTs.append(LUT_G2)"
   ]
  },
  {
   "cell_type": "code",
   "execution_count": 9,
   "metadata": {},
   "outputs": [],
   "source": [
    "def augumentation(data_type:dict, img_dir:str):\n",
    "    for num in range(3):\n",
    "        j = 1\n",
    "        flist = get_path(data_type[num], img_dir)\n",
    "\n",
    "        for file in flist:\n",
    "            # 画像の読み込み\n",
    "            img_src = cv2.imread(file)\n",
    "            trans_img = []\n",
    "            trans_img.append(img_src)\n",
    "\n",
    "            # LUT変換\n",
    "            for i, LUT in enumerate(LUTs):\n",
    "                trans_img.append(cv2.LUT(img_src, LUT))\n",
    "\n",
    "            # 平滑化      \n",
    "            trans_img.append(cv2.blur(img_src, average_square))      \n",
    "\n",
    "            # ヒストグラム均一化\n",
    "            trans_img.append(equalizeHistRGB(img_src))\n",
    "\n",
    "            # ノイズ付加\n",
    "            trans_img.append(addGaussianNoise(img_src))\n",
    "            trans_img.append(addSaltPepperNoise(img_src))\n",
    "\n",
    "            # 反転\n",
    "            flip_img = []\n",
    "            for img in trans_img:\n",
    "                flip_img.append(cv2.flip(img, 1))\n",
    "            trans_img.extend(flip_img)\n",
    "\n",
    "    #         base = f\"{member}/{member}\"+str(j)+\"_\"\n",
    "            base = f'{img_dir}/aug_img/{data_type[num]}/{data_type[num]}{j}_'\n",
    "            j += 1\n",
    "            img_src.astype(np.float64)\n",
    "            for i, img in enumerate(trans_img):\n",
    "                cv2.imwrite(f'{base}{i}.jpg' ,img) "
   ]
  },
  {
   "cell_type": "code",
   "execution_count": 10,
   "metadata": {},
   "outputs": [],
   "source": [
    "augumentation(data_type, img_dir)"
   ]
  },
  {
   "cell_type": "markdown",
   "metadata": {},
   "source": [
    "#### datasets"
   ]
  },
  {
   "cell_type": "code",
   "execution_count": 16,
   "metadata": {},
   "outputs": [
    {
     "name": "stderr",
     "output_type": "stream",
     "text": [
      "Using TensorFlow backend.\n"
     ]
    }
   ],
   "source": [
    "import keras\n",
    "from sklearn.model_selection import train_test_split\n",
    "from keras.utils import to_categorical\n",
    "from PIL import Image"
   ]
  },
  {
   "cell_type": "code",
   "execution_count": 25,
   "metadata": {},
   "outputs": [],
   "source": [
    "def get_aug_path(data_type:str, img_dir:str):\n",
    "    path = f\"{img_dir}/resize_img/{data_type}/{data_type}*\"\n",
    "    flist = sorted(glob.glob(path), key=numericalSort)\n",
    "    return flist\n",
    "\n",
    "def img_array(data_type:str, img_dir:str, data_num:int):\n",
    "    img_array = np.zeros((data_num, 75, 100))\n",
    "    img_path = get_aug_path(data_type, img_dir)\n",
    "    for i in range(data_num):\n",
    "        img_array[i] += np.array((Image.open(img_path[i])).convert('L'))\n",
    "    img_train, img_test = train_test_split(img_array, train_size= 0.8)\n",
    "    return img_train, img_test"
   ]
  },
  {
   "cell_type": "code",
   "execution_count": 26,
   "metadata": {},
   "outputs": [
    {
     "name": "stderr",
     "output_type": "stream",
     "text": [
      "/home/deepstation/.pyenv/versions/anaconda3-5.1.0/lib/python3.6/site-packages/sklearn/model_selection/_split.py:2026: FutureWarning: From version 0.21, test_size will always complement train_size unless both are specified.\n",
      "  FutureWarning)\n"
     ]
    }
   ],
   "source": [
    "nv_train, nv_test = img_array(data_type[0], img_dir, 514)\n",
    "mel_train, mel_test = img_array(data_type[1], img_dir, 514)\n",
    "bcc_train, bcc_test = img_array(data_type[2], img_dir, 514)\n",
    "# bcc_train, bcc_test = img_array(data_type[2], img_dir, 9252)"
   ]
  },
  {
   "cell_type": "code",
   "execution_count": 27,
   "metadata": {},
   "outputs": [
    {
     "data": {
      "text/plain": [
       "411.20000000000005"
      ]
     },
     "execution_count": 27,
     "metadata": {},
     "output_type": "execute_result"
    }
   ],
   "source": [
    "514*0.8"
   ]
  },
  {
   "cell_type": "code",
   "execution_count": 35,
   "metadata": {},
   "outputs": [],
   "source": [
    "def dataset(dataset:int, data1:list, data2:list, data3:list):\n",
    "#     datasets = {0:7401, 1:1851}\n",
    "    datasets = {0:411, 1:103}\n",
    "    data = {0:data1, 1:data2, 2:data3}\n",
    "    x = np.zeros((datasets[dataset]*3, 75, 100))\n",
    "    for num in range(3):\n",
    "        data_num = data[num]\n",
    "        for i in range(datasets[dataset]):\n",
    "            x[(num*datasets[dataset])+i] += data_num[i]\n",
    "    return x"
   ]
  },
  {
   "cell_type": "code",
   "execution_count": 70,
   "metadata": {},
   "outputs": [],
   "source": [
    "x_train = dataset(0, nv_train, mel_train, bcc_train)\n",
    "x_test = dataset(1, nv_test, mel_test, bcc_test)\n",
    "x_train = x_train.reshape((x_train.shape[0], 75, 100, 1))\n",
    "x_test = x_test.reshape((x_test.shape[0], 75, 100, 1))"
   ]
  },
  {
   "cell_type": "code",
   "execution_count": 71,
   "metadata": {},
   "outputs": [],
   "source": [
    "y_train = np.repeat([0, 1, 2], nv_train.shape[0])\n",
    "y_test = np.repeat([0, 1, 2], nv_test.shape[0])\n",
    "# y_train = to_categorical(_y_train)\n",
    "# y_test = to_categorical(_y_test) "
   ]
  },
  {
   "cell_type": "code",
   "execution_count": 72,
   "metadata": {},
   "outputs": [],
   "source": [
    "x_train_mean = np.mean(x_train)\n",
    "x_test_mean = np.mean(x_test)\n",
    "x_train_std = np.std(x_train)\n",
    "x_test_std = np.std(x_test)\n",
    "\n",
    "x_train = (x_train - x_train_mean)/x_train_std\n",
    "x_test = (x_test - x_test_mean)/x_test_std"
   ]
  },
  {
   "cell_type": "code",
   "execution_count": 73,
   "metadata": {},
   "outputs": [],
   "source": [
    "y_train, y_test = to_categorical(y_train), to_categorical(y_test)\n",
    "x_train, x_validate, y_train, y_validate = train_test_split(x_train, y_train, test_size = 0.1, random_state = 2)"
   ]
  },
  {
   "cell_type": "code",
   "execution_count": 74,
   "metadata": {},
   "outputs": [
    {
     "name": "stdout",
     "output_type": "stream",
     "text": [
      "\n",
      "Dataset shape\n",
      "x_train: (1109, 75, 100, 1) |-> y_train: (1109, 3),\n",
      "x_test: (309, 75, 100, 1) |-> y_test: (309, 3),\n",
      "x_validate: (124, 75, 100, 1) |-> y_validate: (124, 3)\n"
     ]
    }
   ],
   "source": [
    "print(f'''\n",
    "Dataset shape\n",
    "x_train: {x_train.shape} |-> y_train: {y_train.shape},\n",
    "x_test: {x_test.shape} |-> y_test: {y_test.shape},\n",
    "x_validate: {x_validate.shape} |-> y_validate: {y_validate.shape}''')"
   ]
  },
  {
   "cell_type": "markdown",
   "metadata": {},
   "source": [
    "## ResNet"
   ]
  },
  {
   "cell_type": "code",
   "execution_count": 76,
   "metadata": {},
   "outputs": [
    {
     "name": "stdout",
     "output_type": "stream",
     "text": [
      "Testing model... /  True 3\n",
      "Train on 1109 samples, validate on 309 samples\n",
      "Epoch 1/70\n"
     ]
    },
    {
     "ename": "ResourceExhaustedError",
     "evalue": "OOM when allocating tensor with shape[512,64,75,100] and type float on /job:localhost/replica:0/task:0/device:GPU:0 by allocator GPU_0_bfc\n\t [[{{node conv2d_38/convolution}} = Conv2D[T=DT_FLOAT, _class=[\"loc:@training_2/Adam/gradients/conv2d_38/convolution_grad/Conv2DBackpropInput\"], data_format=\"NCHW\", dilations=[1, 1, 1, 1], padding=\"SAME\", strides=[1, 1, 1, 1], use_cudnn_on_gpu=true, _device=\"/job:localhost/replica:0/task:0/device:GPU:0\"](activation_45/Relu, conv2d_38/kernel/read)]]\nHint: If you want to see a list of allocated tensors when OOM happens, add report_tensor_allocations_upon_oom to RunOptions for current allocation info.\n\n\t [[{{node loss_6/mul/_931}} = _Recv[client_terminated=false, recv_device=\"/job:localhost/replica:0/task:0/device:CPU:0\", send_device=\"/job:localhost/replica:0/task:0/device:GPU:0\", send_device_incarnation=1, tensor_name=\"edge_1745_loss_6/mul\", tensor_type=DT_FLOAT, _device=\"/job:localhost/replica:0/task:0/device:CPU:0\"]()]]\nHint: If you want to see a list of allocated tensors when OOM happens, add report_tensor_allocations_upon_oom to RunOptions for current allocation info.\n",
     "output_type": "error",
     "traceback": [
      "\u001b[0;31m---------------------------------------------------------------------------\u001b[0m",
      "\u001b[0;31mResourceExhaustedError\u001b[0m                    Traceback (most recent call last)",
      "\u001b[0;32m<ipython-input-76-0c92fbc0ae3a>\u001b[0m in \u001b[0;36m<module>\u001b[0;34m()\u001b[0m\n\u001b[1;32m     93\u001b[0m             \u001b[0mprint\u001b[0m\u001b[0;34m(\u001b[0m\u001b[0;34m\"Testing model... / \"\u001b[0m\u001b[0;34m,\u001b[0m \u001b[0mres\u001b[0m\u001b[0;34m,\u001b[0m \u001b[0mnb\u001b[0m\u001b[0;34m)\u001b[0m\u001b[0;34m\u001b[0m\u001b[0m\n\u001b[1;32m     94\u001b[0m             \u001b[0mmodel\u001b[0m \u001b[0;34m=\u001b[0m \u001b[0mTestModel\u001b[0m\u001b[0;34m(\u001b[0m\u001b[0mres\u001b[0m\u001b[0;34m,\u001b[0m \u001b[0mnb\u001b[0m\u001b[0;34m)\u001b[0m\u001b[0;34m\u001b[0m\u001b[0m\n\u001b[0;32m---> 95\u001b[0;31m             \u001b[0mmodel\u001b[0m\u001b[0;34m.\u001b[0m\u001b[0mtrain\u001b[0m\u001b[0;34m(\u001b[0m\u001b[0mX_train\u001b[0m\u001b[0;34m,\u001b[0m \u001b[0my_train\u001b[0m\u001b[0;34m,\u001b[0m \u001b[0mX_test\u001b[0m\u001b[0;34m,\u001b[0m \u001b[0my_test\u001b[0m\u001b[0;34m,\u001b[0m \u001b[0mnb_epoch\u001b[0m\u001b[0;34m=\u001b[0m\u001b[0;36m70\u001b[0m\u001b[0;34m)\u001b[0m\u001b[0;34m\u001b[0m\u001b[0m\n\u001b[0m",
      "\u001b[0;32m<ipython-input-76-0c92fbc0ae3a>\u001b[0m in \u001b[0;36mtrain\u001b[0;34m(self, Xtrain, ytrain, Xval, yval, nb_epoch, learning_rate)\u001b[0m\n\u001b[1;32m     72\u001b[0m     \u001b[0;32mdef\u001b[0m \u001b[0mtrain\u001b[0m\u001b[0;34m(\u001b[0m\u001b[0mself\u001b[0m\u001b[0;34m,\u001b[0m \u001b[0mXtrain\u001b[0m\u001b[0;34m,\u001b[0m \u001b[0mytrain\u001b[0m\u001b[0;34m,\u001b[0m \u001b[0mXval\u001b[0m\u001b[0;34m,\u001b[0m \u001b[0myval\u001b[0m\u001b[0;34m,\u001b[0m \u001b[0mnb_epoch\u001b[0m\u001b[0;34m=\u001b[0m\u001b[0;36m70\u001b[0m\u001b[0;34m,\u001b[0m \u001b[0mlearning_rate\u001b[0m\u001b[0;34m=\u001b[0m\u001b[0;36m0.01\u001b[0m\u001b[0;34m)\u001b[0m\u001b[0;34m:\u001b[0m\u001b[0;34m\u001b[0m\u001b[0m\n\u001b[1;32m     73\u001b[0m         \u001b[0mself\u001b[0m\u001b[0;34m.\u001b[0m\u001b[0mmodel\u001b[0m\u001b[0;34m.\u001b[0m\u001b[0mcompile\u001b[0m\u001b[0;34m(\u001b[0m\u001b[0moptimizer\u001b[0m\u001b[0;34m=\u001b[0m\u001b[0mAdam\u001b[0m\u001b[0;34m(\u001b[0m\u001b[0mlr\u001b[0m\u001b[0;34m=\u001b[0m\u001b[0mlearning_rate\u001b[0m\u001b[0;34m)\u001b[0m\u001b[0;34m,\u001b[0m \u001b[0mloss\u001b[0m\u001b[0;34m=\u001b[0m\u001b[0;34m\"categorical_crossentropy\"\u001b[0m\u001b[0;34m,\u001b[0m \u001b[0mmetrics\u001b[0m\u001b[0;34m=\u001b[0m\u001b[0;34m[\u001b[0m\u001b[0;34m\"accuracy\"\u001b[0m\u001b[0;34m]\u001b[0m\u001b[0;34m)\u001b[0m\u001b[0;34m\u001b[0m\u001b[0m\n\u001b[0;32m---> 74\u001b[0;31m         \u001b[0mhistory\u001b[0m \u001b[0;34m=\u001b[0m \u001b[0mself\u001b[0m\u001b[0;34m.\u001b[0m\u001b[0mmodel\u001b[0m\u001b[0;34m.\u001b[0m\u001b[0mfit\u001b[0m\u001b[0;34m(\u001b[0m\u001b[0mXtrain\u001b[0m\u001b[0;34m,\u001b[0m \u001b[0mytrain\u001b[0m\u001b[0;34m,\u001b[0m \u001b[0mbatch_size\u001b[0m\u001b[0;34m=\u001b[0m\u001b[0;36m512\u001b[0m\u001b[0;34m,\u001b[0m \u001b[0mepochs\u001b[0m\u001b[0;34m=\u001b[0m\u001b[0mnb_epoch\u001b[0m\u001b[0;34m,\u001b[0m \u001b[0mvalidation_data\u001b[0m\u001b[0;34m=\u001b[0m\u001b[0;34m(\u001b[0m\u001b[0mXval\u001b[0m\u001b[0;34m,\u001b[0m \u001b[0myval\u001b[0m\u001b[0;34m)\u001b[0m\u001b[0;34m)\u001b[0m\u001b[0;34m.\u001b[0m\u001b[0mhistory\u001b[0m\u001b[0;34m\u001b[0m\u001b[0m\n\u001b[0m\u001b[1;32m     75\u001b[0m         \u001b[0;31m# historyの保存\u001b[0m\u001b[0;34m\u001b[0m\u001b[0;34m\u001b[0m\u001b[0m\n\u001b[1;32m     76\u001b[0m         \u001b[0;32mif\u001b[0m \u001b[0;32mnot\u001b[0m \u001b[0mos\u001b[0m\u001b[0;34m.\u001b[0m\u001b[0mpath\u001b[0m\u001b[0;34m.\u001b[0m\u001b[0mexists\u001b[0m\u001b[0;34m(\u001b[0m\u001b[0;34m\"history\"\u001b[0m\u001b[0;34m)\u001b[0m\u001b[0;34m:\u001b[0m \u001b[0mos\u001b[0m\u001b[0;34m.\u001b[0m\u001b[0mmkdir\u001b[0m\u001b[0;34m(\u001b[0m\u001b[0;34m\"history\"\u001b[0m\u001b[0;34m)\u001b[0m\u001b[0;34m\u001b[0m\u001b[0m\n",
      "\u001b[0;32m~/.pyenv/versions/anaconda3-5.1.0/lib/python3.6/site-packages/keras/engine/training.py\u001b[0m in \u001b[0;36mfit\u001b[0;34m(self, x, y, batch_size, epochs, verbose, callbacks, validation_split, validation_data, shuffle, class_weight, sample_weight, initial_epoch, steps_per_epoch, validation_steps, **kwargs)\u001b[0m\n\u001b[1;32m   1037\u001b[0m                                         \u001b[0minitial_epoch\u001b[0m\u001b[0;34m=\u001b[0m\u001b[0minitial_epoch\u001b[0m\u001b[0;34m,\u001b[0m\u001b[0;34m\u001b[0m\u001b[0m\n\u001b[1;32m   1038\u001b[0m                                         \u001b[0msteps_per_epoch\u001b[0m\u001b[0;34m=\u001b[0m\u001b[0msteps_per_epoch\u001b[0m\u001b[0;34m,\u001b[0m\u001b[0;34m\u001b[0m\u001b[0m\n\u001b[0;32m-> 1039\u001b[0;31m                                         validation_steps=validation_steps)\n\u001b[0m\u001b[1;32m   1040\u001b[0m \u001b[0;34m\u001b[0m\u001b[0m\n\u001b[1;32m   1041\u001b[0m     def evaluate(self, x=None, y=None,\n",
      "\u001b[0;32m~/.pyenv/versions/anaconda3-5.1.0/lib/python3.6/site-packages/keras/engine/training_arrays.py\u001b[0m in \u001b[0;36mfit_loop\u001b[0;34m(model, f, ins, out_labels, batch_size, epochs, verbose, callbacks, val_f, val_ins, shuffle, callback_metrics, initial_epoch, steps_per_epoch, validation_steps)\u001b[0m\n\u001b[1;32m    197\u001b[0m                     \u001b[0mins_batch\u001b[0m\u001b[0;34m[\u001b[0m\u001b[0mi\u001b[0m\u001b[0;34m]\u001b[0m \u001b[0;34m=\u001b[0m \u001b[0mins_batch\u001b[0m\u001b[0;34m[\u001b[0m\u001b[0mi\u001b[0m\u001b[0;34m]\u001b[0m\u001b[0;34m.\u001b[0m\u001b[0mtoarray\u001b[0m\u001b[0;34m(\u001b[0m\u001b[0;34m)\u001b[0m\u001b[0;34m\u001b[0m\u001b[0m\n\u001b[1;32m    198\u001b[0m \u001b[0;34m\u001b[0m\u001b[0m\n\u001b[0;32m--> 199\u001b[0;31m                 \u001b[0mouts\u001b[0m \u001b[0;34m=\u001b[0m \u001b[0mf\u001b[0m\u001b[0;34m(\u001b[0m\u001b[0mins_batch\u001b[0m\u001b[0;34m)\u001b[0m\u001b[0;34m\u001b[0m\u001b[0m\n\u001b[0m\u001b[1;32m    200\u001b[0m                 \u001b[0mouts\u001b[0m \u001b[0;34m=\u001b[0m \u001b[0mto_list\u001b[0m\u001b[0;34m(\u001b[0m\u001b[0mouts\u001b[0m\u001b[0;34m)\u001b[0m\u001b[0;34m\u001b[0m\u001b[0m\n\u001b[1;32m    201\u001b[0m                 \u001b[0;32mfor\u001b[0m \u001b[0ml\u001b[0m\u001b[0;34m,\u001b[0m \u001b[0mo\u001b[0m \u001b[0;32min\u001b[0m \u001b[0mzip\u001b[0m\u001b[0;34m(\u001b[0m\u001b[0mout_labels\u001b[0m\u001b[0;34m,\u001b[0m \u001b[0mouts\u001b[0m\u001b[0;34m)\u001b[0m\u001b[0;34m:\u001b[0m\u001b[0;34m\u001b[0m\u001b[0m\n",
      "\u001b[0;32m~/.pyenv/versions/anaconda3-5.1.0/lib/python3.6/site-packages/keras/backend/tensorflow_backend.py\u001b[0m in \u001b[0;36m__call__\u001b[0;34m(self, inputs)\u001b[0m\n\u001b[1;32m   2713\u001b[0m                 \u001b[0;32mreturn\u001b[0m \u001b[0mself\u001b[0m\u001b[0;34m.\u001b[0m\u001b[0m_legacy_call\u001b[0m\u001b[0;34m(\u001b[0m\u001b[0minputs\u001b[0m\u001b[0;34m)\u001b[0m\u001b[0;34m\u001b[0m\u001b[0m\n\u001b[1;32m   2714\u001b[0m \u001b[0;34m\u001b[0m\u001b[0m\n\u001b[0;32m-> 2715\u001b[0;31m             \u001b[0;32mreturn\u001b[0m \u001b[0mself\u001b[0m\u001b[0;34m.\u001b[0m\u001b[0m_call\u001b[0m\u001b[0;34m(\u001b[0m\u001b[0minputs\u001b[0m\u001b[0;34m)\u001b[0m\u001b[0;34m\u001b[0m\u001b[0m\n\u001b[0m\u001b[1;32m   2716\u001b[0m         \u001b[0;32melse\u001b[0m\u001b[0;34m:\u001b[0m\u001b[0;34m\u001b[0m\u001b[0m\n\u001b[1;32m   2717\u001b[0m             \u001b[0;32mif\u001b[0m \u001b[0mpy_any\u001b[0m\u001b[0;34m(\u001b[0m\u001b[0mis_tensor\u001b[0m\u001b[0;34m(\u001b[0m\u001b[0mx\u001b[0m\u001b[0;34m)\u001b[0m \u001b[0;32mfor\u001b[0m \u001b[0mx\u001b[0m \u001b[0;32min\u001b[0m \u001b[0minputs\u001b[0m\u001b[0;34m)\u001b[0m\u001b[0;34m:\u001b[0m\u001b[0;34m\u001b[0m\u001b[0m\n",
      "\u001b[0;32m~/.pyenv/versions/anaconda3-5.1.0/lib/python3.6/site-packages/keras/backend/tensorflow_backend.py\u001b[0m in \u001b[0;36m_call\u001b[0;34m(self, inputs)\u001b[0m\n\u001b[1;32m   2673\u001b[0m             \u001b[0mfetched\u001b[0m \u001b[0;34m=\u001b[0m \u001b[0mself\u001b[0m\u001b[0;34m.\u001b[0m\u001b[0m_callable_fn\u001b[0m\u001b[0;34m(\u001b[0m\u001b[0;34m*\u001b[0m\u001b[0marray_vals\u001b[0m\u001b[0;34m,\u001b[0m \u001b[0mrun_metadata\u001b[0m\u001b[0;34m=\u001b[0m\u001b[0mself\u001b[0m\u001b[0;34m.\u001b[0m\u001b[0mrun_metadata\u001b[0m\u001b[0;34m)\u001b[0m\u001b[0;34m\u001b[0m\u001b[0m\n\u001b[1;32m   2674\u001b[0m         \u001b[0;32melse\u001b[0m\u001b[0;34m:\u001b[0m\u001b[0;34m\u001b[0m\u001b[0m\n\u001b[0;32m-> 2675\u001b[0;31m             \u001b[0mfetched\u001b[0m \u001b[0;34m=\u001b[0m \u001b[0mself\u001b[0m\u001b[0;34m.\u001b[0m\u001b[0m_callable_fn\u001b[0m\u001b[0;34m(\u001b[0m\u001b[0;34m*\u001b[0m\u001b[0marray_vals\u001b[0m\u001b[0;34m)\u001b[0m\u001b[0;34m\u001b[0m\u001b[0m\n\u001b[0m\u001b[1;32m   2676\u001b[0m         \u001b[0;32mreturn\u001b[0m \u001b[0mfetched\u001b[0m\u001b[0;34m[\u001b[0m\u001b[0;34m:\u001b[0m\u001b[0mlen\u001b[0m\u001b[0;34m(\u001b[0m\u001b[0mself\u001b[0m\u001b[0;34m.\u001b[0m\u001b[0moutputs\u001b[0m\u001b[0;34m)\u001b[0m\u001b[0;34m]\u001b[0m\u001b[0;34m\u001b[0m\u001b[0m\n\u001b[1;32m   2677\u001b[0m \u001b[0;34m\u001b[0m\u001b[0m\n",
      "\u001b[0;32m~/.pyenv/versions/anaconda3-5.1.0/lib/python3.6/site-packages/tensorflow/python/client/session.py\u001b[0m in \u001b[0;36m__call__\u001b[0;34m(self, *args, **kwargs)\u001b[0m\n\u001b[1;32m   1437\u001b[0m           ret = tf_session.TF_SessionRunCallable(\n\u001b[1;32m   1438\u001b[0m               \u001b[0mself\u001b[0m\u001b[0;34m.\u001b[0m\u001b[0m_session\u001b[0m\u001b[0;34m.\u001b[0m\u001b[0m_session\u001b[0m\u001b[0;34m,\u001b[0m \u001b[0mself\u001b[0m\u001b[0;34m.\u001b[0m\u001b[0m_handle\u001b[0m\u001b[0;34m,\u001b[0m \u001b[0margs\u001b[0m\u001b[0;34m,\u001b[0m \u001b[0mstatus\u001b[0m\u001b[0;34m,\u001b[0m\u001b[0;34m\u001b[0m\u001b[0m\n\u001b[0;32m-> 1439\u001b[0;31m               run_metadata_ptr)\n\u001b[0m\u001b[1;32m   1440\u001b[0m         \u001b[0;32mif\u001b[0m \u001b[0mrun_metadata\u001b[0m\u001b[0;34m:\u001b[0m\u001b[0;34m\u001b[0m\u001b[0m\n\u001b[1;32m   1441\u001b[0m           \u001b[0mproto_data\u001b[0m \u001b[0;34m=\u001b[0m \u001b[0mtf_session\u001b[0m\u001b[0;34m.\u001b[0m\u001b[0mTF_GetBuffer\u001b[0m\u001b[0;34m(\u001b[0m\u001b[0mrun_metadata_ptr\u001b[0m\u001b[0;34m)\u001b[0m\u001b[0;34m\u001b[0m\u001b[0m\n",
      "\u001b[0;32m~/.pyenv/versions/anaconda3-5.1.0/lib/python3.6/site-packages/tensorflow/python/framework/errors_impl.py\u001b[0m in \u001b[0;36m__exit__\u001b[0;34m(self, type_arg, value_arg, traceback_arg)\u001b[0m\n\u001b[1;32m    526\u001b[0m             \u001b[0;32mNone\u001b[0m\u001b[0;34m,\u001b[0m \u001b[0;32mNone\u001b[0m\u001b[0;34m,\u001b[0m\u001b[0;34m\u001b[0m\u001b[0m\n\u001b[1;32m    527\u001b[0m             \u001b[0mcompat\u001b[0m\u001b[0;34m.\u001b[0m\u001b[0mas_text\u001b[0m\u001b[0;34m(\u001b[0m\u001b[0mc_api\u001b[0m\u001b[0;34m.\u001b[0m\u001b[0mTF_Message\u001b[0m\u001b[0;34m(\u001b[0m\u001b[0mself\u001b[0m\u001b[0;34m.\u001b[0m\u001b[0mstatus\u001b[0m\u001b[0;34m.\u001b[0m\u001b[0mstatus\u001b[0m\u001b[0;34m)\u001b[0m\u001b[0;34m)\u001b[0m\u001b[0;34m,\u001b[0m\u001b[0;34m\u001b[0m\u001b[0m\n\u001b[0;32m--> 528\u001b[0;31m             c_api.TF_GetCode(self.status.status))\n\u001b[0m\u001b[1;32m    529\u001b[0m     \u001b[0;31m# Delete the underlying status object from memory otherwise it stays alive\u001b[0m\u001b[0;34m\u001b[0m\u001b[0;34m\u001b[0m\u001b[0m\n\u001b[1;32m    530\u001b[0m     \u001b[0;31m# as there is a reference to status from this from the traceback due to\u001b[0m\u001b[0;34m\u001b[0m\u001b[0;34m\u001b[0m\u001b[0m\n",
      "\u001b[0;31mResourceExhaustedError\u001b[0m: OOM when allocating tensor with shape[512,64,75,100] and type float on /job:localhost/replica:0/task:0/device:GPU:0 by allocator GPU_0_bfc\n\t [[{{node conv2d_38/convolution}} = Conv2D[T=DT_FLOAT, _class=[\"loc:@training_2/Adam/gradients/conv2d_38/convolution_grad/Conv2DBackpropInput\"], data_format=\"NCHW\", dilations=[1, 1, 1, 1], padding=\"SAME\", strides=[1, 1, 1, 1], use_cudnn_on_gpu=true, _device=\"/job:localhost/replica:0/task:0/device:GPU:0\"](activation_45/Relu, conv2d_38/kernel/read)]]\nHint: If you want to see a list of allocated tensors when OOM happens, add report_tensor_allocations_upon_oom to RunOptions for current allocation info.\n\n\t [[{{node loss_6/mul/_931}} = _Recv[client_terminated=false, recv_device=\"/job:localhost/replica:0/task:0/device:CPU:0\", send_device=\"/job:localhost/replica:0/task:0/device:GPU:0\", send_device_incarnation=1, tensor_name=\"edge_1745_loss_6/mul\", tensor_type=DT_FLOAT, _device=\"/job:localhost/replica:0/task:0/device:CPU:0\"]()]]\nHint: If you want to see a list of allocated tensors when OOM happens, add report_tensor_allocations_upon_oom to RunOptions for current allocation info.\n"
     ]
    }
   ],
   "source": [
    "from keras.utils import plot_model\n",
    "from keras.optimizers import SGD\n",
    "from keras.models import Model\n",
    "import os\n",
    "import time\n",
    "import numpy as np\n",
    "import matplotlib.pyplot as plt\n",
    "from ResNet_build import ResnetBuilder\n",
    "from keras import losses\n",
    "from utility import utility\n",
    "from PIL import Image\n",
    "import random\n",
    "import numpy as np\n",
    "import pickle\n",
    "import os\n",
    "from keras.layers import Input, Conv2D, AveragePooling2D, BatchNormalization, Add, Activation, Flatten, Dense, Dropout\n",
    "from keras.models import Model\n",
    "from keras.optimizers import Adam\n",
    "from keras.utils import to_categorical\n",
    "\n",
    "class TestModel:\n",
    "    def __init__(self, use_resblock, nb_blocks):\n",
    "        self.use_resblock = use_resblock\n",
    "        self.nb_blocks = nb_blocks\n",
    "        # モデルの作成\n",
    "        self.model = self._create_model()\n",
    "        # モデル名\n",
    "        self.name = \"\"\n",
    "        if use_resblock: self.name += \"use_res_\"\n",
    "        else: self.name += \"no_res_\"\n",
    "        self.name = f\"{self.name}{self.nb_blocks:02d}\"\n",
    "\n",
    "    def _create_model(self):\n",
    "        input = Input(shape=(75, 100, 1))\n",
    "        X = input\n",
    "        n_filter = 64\n",
    "        for i in range(self.nb_blocks):\n",
    "            # 3ブロック単位でAveragePoolingを入れる、フィルター数を倍にする\n",
    "            if i % 3 == 0 and i != 0:\n",
    "                X = AveragePooling2D((2,2))(X)\n",
    "                n_filter *= 2\n",
    "            # ショートカットとメインのフィルター数を揃えるために活性化関数なしの畳込みレイヤーを作る\n",
    "            if i % 3 == 0:\n",
    "                X = Conv2D(n_filter, (4,4), padding=\"same\")(X)\n",
    "            # 1ブロック単位の処理\n",
    "            if self.use_resblock:\n",
    "                # ショートカット：ショートカット→BatchNorm（ResBlockを使う場合のみ）\n",
    "                shortcut = X\n",
    "                shortcut = BatchNormalization()(shortcut)\n",
    "            # メイン\n",
    "            # 畳み込み→BatchNorm→活性化関数\n",
    "            X = Conv2D(n_filter, (4,4), padding=\"same\")(X)\n",
    "#             X = BatchNormalization()(X)\n",
    "            X = Activation(\"relu\")(X)\n",
    "            X = Dropout(0.2)(X)\n",
    "            # 畳み込み→BatchNorm\n",
    "#             X = Conv2D(n_filter, (4,4), padding=\"same\")(X)\n",
    "#             X = BatchNormalization()(X)\n",
    "            if self.use_resblock:\n",
    "                # ショートカットとマージ（ResBlockを使う場合のみ）\n",
    "                X = Add()([X, shortcut])\n",
    "            # 活性化関数\n",
    "            X = Activation(\"relu\")(X)\n",
    "        # 全結合\n",
    "        X = Flatten()(X)\n",
    "        y = Dense(3, activation=\"softmax\")(X)\n",
    "        X = Dropout(0.5)(X)\n",
    "        # モデル\n",
    "        model = Model(inputs=input, outputs=y)\n",
    "        return model\n",
    "\n",
    "    def train(self, Xtrain, ytrain, Xval, yval, nb_epoch=70, learning_rate=0.01):\n",
    "        self.model.compile(optimizer=Adam(lr=learning_rate), loss=\"categorical_crossentropy\", metrics=[\"accuracy\"])\n",
    "        history = self.model.fit(Xtrain, ytrain, batch_size=512, epochs=nb_epoch, validation_data=(Xval, yval)).history\n",
    "        # historyの保存\n",
    "        if not os.path.exists(\"history\"): os.mkdir(\"history\")\n",
    "        self.model.save(f\"./history/{self.name}.h5\")\n",
    "        with open(f\"history/{self.name}.dat\", \"wb\") as fp:\n",
    "            pickle.dump(history, fp)\n",
    "\n",
    "if __name__ == \"__main__\":\n",
    "    # データの読み込み\n",
    "    (X_train, y_train), (X_test, y_test) = (x_train, y_train), (x_test, y_test)\n",
    "#     X_train, X_test = X_train / 255.0, X_test / 255.0\n",
    "#     y_train, y_test = to_categorical(y_train), to_categorical(y_test)\n",
    "    # テストパターン\n",
    "#     resflag = [False, True]\n",
    "    resflag = [True]\n",
    "    nb_blocks = [3, 6, 9, 12]\n",
    "    # モデルの作成\n",
    "    for res in resflag:\n",
    "        for nb in nb_blocks:\n",
    "            print(\"Testing model... / \", res, nb)\n",
    "            model = TestModel(res, nb)\n",
    "            model.train(X_train, y_train, X_test, y_test, nb_epoch=70)"
   ]
  },
  {
   "cell_type": "code",
   "execution_count": null,
   "metadata": {},
   "outputs": [],
   "source": [
    "import numpy as np\n",
    "import matplotlib.pyplot as plt\n",
    "import pickle\n",
    "from matplotlib.cm import get_cmap\n",
    "\n",
    "# データ読み込み\n",
    "no_res, use_res = [], []\n",
    "for i in range(4):\n",
    "    with open(f\"history/no_res_{i*3+3:02d}.dat\", \"rb\") as fp:\n",
    "        no_res.append(pickle.load(fp))\n",
    "    with open(f\"history/use_res_{i*3+3:02d}.dat\", \"rb\") as fp:\n",
    "        use_res.append(pickle.load(fp))\n",
    "\n",
    "xlabels = np.arange(50) + 1\n",
    "cmap = get_cmap(\"Set1\")\n",
    "\n",
    "\n",
    "plt.subplot(2, 1, 1)\n",
    "for i in range(len(no_res)):\n",
    "    plt.plot(xlabels, no_res[i][\"val_acc\"], color=cmap(i), label=\"No_res # blocks=\"+str(i*3+3))\n",
    "plt.legend()\n",
    "plt.ylim((0, 1.0))\n",
    "\n",
    "plt.subplot(2, 1, 2)\n",
    "for i in range(len(no_res)):\n",
    "    plt.plot(xlabels, use_res[i][\"val_acc\"],  color=cmap(i), label=\"Use_res # blocks=\"+str(i*3+3))\n",
    "# plt.legend()\n",
    "plt.ylim((0, 1.0))\n",
    "\n",
    "plt.suptitle(\"Validation accuracy\")\n",
    "plt.show()"
   ]
  },
  {
   "cell_type": "code",
   "execution_count": 23,
   "metadata": {},
   "outputs": [
    {
     "data": {
      "image/png": "[encoded data removed]",
      "text/plain": [
       "<matplotlib.figure.Figure at 0x7fbd38b0c0b8>"
      ]
     },
     "metadata": {},
     "output_type": "display_data"
    }
   ],
   "source": [
    "import numpy as np\n",
    "import matplotlib.pyplot as plt\n",
    "import pickle\n",
    "from matplotlib.cm import get_cmap\n",
    "\n",
    "# データ読み込み\n",
    "no_res, use_res = [], []\n",
    "for i in range(4):\n",
    "    with open(f\"history/no_res_{i*3+3:02d}.dat\", \"rb\") as fp:\n",
    "        no_res.append(pickle.load(fp))\n",
    "    with open(f\"history/use_res_{i*3+3:02d}.dat\", \"rb\") as fp:\n",
    "        use_res.append(pickle.load(fp))\n",
    "\n",
    "xlabels = np.arange(50) + 1\n",
    "cmap = get_cmap(\"Set1\")\n",
    "\n",
    "\n",
    "plt.subplot(2, 1, 1)\n",
    "for i in range(len(no_res)):\n",
    "    plt.plot(xlabels, no_res[i][\"val_loss\"], color=cmap(i), label=\"No_res # blocks=\"+str(i*3+3))\n",
    "plt.legend()\n",
    "plt.ylim((0, 15.0))\n",
    "\n",
    "plt.subplot(2, 1, 2)\n",
    "for i in range(len(no_res)):\n",
    "    plt.plot(xlabels, use_res[i][\"val_loss\"],  color=cmap(i), label=\"Use_res # blocks=\"+str(i*3+3))\n",
    "# plt.legend()\n",
    "plt.ylim((0, 15.0))\n",
    "\n",
    "\n",
    "\n",
    "plt.suptitle(\"Validation loss\")\n",
    "plt.show()"
   ]
  },
  {
   "cell_type": "code",
   "execution_count": null,
   "metadata": {},
   "outputs": [],
   "source": []
  }
 ],
 "metadata": {
  "kernelspec": {
   "display_name": "Python 3",
   "language": "python",
   "name": "python3"
  },
  "language_info": {
   "codemirror_mode": {
    "name": "ipython",
    "version": 3
   },
   "file_extension": ".py",
   "mimetype": "text/x-python",
   "name": "python",
   "nbconvert_exporter": "python",
   "pygments_lexer": "ipython3",
   "version": "3.6.6"
  }
 },
 "nbformat": 4,
 "nbformat_minor": 2
}
