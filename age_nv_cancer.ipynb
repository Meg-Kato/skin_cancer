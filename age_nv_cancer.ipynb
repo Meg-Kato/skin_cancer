{
 "cells": [
  {
   "cell_type": "code",
   "execution_count": 1,
   "metadata": {},
   "outputs": [
    {
     "name": "stderr",
     "output_type": "stream",
     "text": [
      "Using TensorFlow backend.\n"
     ]
    }
   ],
   "source": [
    "# import keras\n",
    "from sklearn.model_selection import train_test_split\n",
    "from sklearn.model_selection import StratifiedKFold\n",
    "\n",
    "import keras\n",
    "from keras.utils import to_categorical\n",
    "from keras import backend as K\n",
    "from keras.models import Sequential, Model\n",
    "from keras.layers import Conv2D, Activation, MaxPooling2D, Dense, Flatten, Dropout, BatchNormalization\n",
    "from keras.optimizers import rmsprop\n",
    "from keras.callbacks import EarlyStopping, ReduceLROnPlateau\n",
    "from keras.preprocessing.image import ImageDataGenerator\n",
    "from keras.models import load_model\n",
    "\n",
    "from termcolor import colored\n",
    "from PIL import Image\n",
    "import random\n",
    "import cv2\n",
    "import sys\n",
    "import re\n",
    "import glob\n",
    "import shutil\n",
    "import os\n",
    "import pandas as pd\n",
    "import matplotlib.pyplot as plt\n",
    "import numpy as np"
   ]
  },
  {
   "cell_type": "code",
   "execution_count": 2,
   "metadata": {},
   "outputs": [],
   "source": [
    "file_path = \"./HAM10000_metadata.csv\"\n",
    "data_type = {0:'nv', 1:'mel', 2:'bcc'}\n",
    "img_dir = './dataset/img'\n",
    "pre_dir = './ham10000_images'\n",
    "batch_size = 256\n",
    "num_classes = 3\n",
    "epochs = 100\n",
    "nv_cancer_labels = np.array([\n",
    "    'nv',\n",
    "    'mel',\n",
    "    'bcc'\n",
    "])"
   ]
  },
  {
   "cell_type": "code",
   "execution_count": 3,
   "metadata": {},
   "outputs": [],
   "source": [
    "df = pd.read_csv(file_path)"
   ]
  },
  {
   "cell_type": "code",
   "execution_count": 12,
   "metadata": {},
   "outputs": [],
   "source": [
    "df_age1 = df[df['age'] <=60]\n",
    "df_age2 = df_age1[df_age1['age'] >= 40]"
   ]
  },
  {
   "cell_type": "code",
   "execution_count": 23,
   "metadata": {},
   "outputs": [],
   "source": [
    "def moveimg_age(data_type:dict, img_dir:str, pre_dir:str):\n",
    "    for num in range(3):\n",
    "        df_type = df_age2[df_age2['dx'] == data_type[num]]\n",
    "        filename_type = df_type['image_id'].values\n",
    "        for i in range(len(filename_type)):\n",
    "            image_id_type = filename_type[i]\n",
    "            newfile = f'{img_dir}/age/{data_type[num]}/{data_type[num]}{i}.jpg'\n",
    "            shutil.copy2(f'{pre_dir}/{image_id_type}.jpg', newfile)\n",
    "            img = cv2.imread(newfile)\n",
    "            height = img.shape[0]\n",
    "            width = img.shape[1]\n",
    "            img2 = cv2.resize(img, (int(width/6), int(height/6)))\n",
    "            cv2.imwrite(newfile, img2)\n",
    "            \n",
    "def numericalSort(value):\n",
    "    numbers = re.compile(r'(\\d+)')\n",
    "    parts = numbers.split(value)\n",
    "    parts[1::2] = map(int, parts[1::2])\n",
    "    return parts\n",
    "\n",
    "def get_aug_path(data_type:str, img_dir:str):\n",
    "    path = f\"{img_dir}/age/{data_type}/{data_type}*\"\n",
    "    flist = sorted(glob.glob(path), key=numericalSort)\n",
    "    return flist\n",
    "\n",
    "def img_array(data_type:str, img_dir:str, data_num:int):\n",
    "    img_array = np.zeros((data_num, 75, 100))\n",
    "    img_path = get_aug_path(data_type, img_dir)\n",
    "    for i in range(data_num):\n",
    "        img_array[i] += np.array(((Image.open(img_path[i])).convert('L')))\n",
    "    img_train, img_test = train_test_split(img_array, train_size= 0.8)\n",
    "    return img_train, img_test\n",
    "\n",
    "def dataset(dataset:int, data1:list, data2:list, data3:list):\n",
    "    datasets = {0:108, 1:28}\n",
    "    data = {0:data1, 1:data2, 2:data3}\n",
    "    x = np.zeros((datasets[dataset]*3, 75, 100))\n",
    "    for i in range(datasets[dataset]):\n",
    "        for num in range(3):\n",
    "            data_num = data[num][i]\n",
    "            x[(3*i)+num] += data_num\n",
    "    return x\n",
    "\n",
    "def plot_history_lost(hist):\n",
    "    plt.plot(hist.history['loss'], label='loss for training')\n",
    "    plt.plot(hist.history['val_loss'], label='loss for validation')\n",
    "    plt.title('model loss')\n",
    "    plt.xlabel('epoch')\n",
    "    plt.ylabel('loss')\n",
    "    plt.legend(loc='best')\n",
    "    plt.show()\n",
    "    \n",
    "def plot_history_acc(hist):\n",
    "    plt.plot(hist.history['acc'], label='accuracy for validation')\n",
    "    plt.plot(hist.history['val_acc'], label='accuracy for validation')\n",
    "    plt.title('model accuracy')\n",
    "    plt.xlabel('epoch')\n",
    "    plt.ylabel('acuuracy')\n",
    "    plt.ylim([0,1])\n",
    "    plt.show()"
   ]
  },
  {
   "cell_type": "code",
   "execution_count": 18,
   "metadata": {},
   "outputs": [],
   "source": [
    "moveimg_age(data_type, img_dir, pre_dir)"
   ]
  },
  {
   "cell_type": "code",
   "execution_count": 37,
   "metadata": {},
   "outputs": [
    {
     "name": "stderr",
     "output_type": "stream",
     "text": [
      "/home/deepstation/.pyenv/versions/anaconda3-5.1.0/lib/python3.6/site-packages/sklearn/model_selection/_split.py:2026: FutureWarning: From version 0.21, test_size will always complement train_size unless both are specified.\n",
      "  FutureWarning)\n"
     ]
    }
   ],
   "source": [
    "nv_train, nv_test = img_array(data_type[0], img_dir, 136)\n",
    "mel_train, mel_test = img_array(data_type[1], img_dir, 136)\n",
    "bcc_train, bcc_test = img_array(data_type[2], img_dir, 136)"
   ]
  },
  {
   "cell_type": "code",
   "execution_count": 38,
   "metadata": {},
   "outputs": [
    {
     "data": {
      "text/plain": [
       "108"
      ]
     },
     "execution_count": 38,
     "metadata": {},
     "output_type": "execute_result"
    }
   ],
   "source": [
    "int(136*0.8)"
   ]
  },
  {
   "cell_type": "code",
   "execution_count": 42,
   "metadata": {},
   "outputs": [],
   "source": [
    "_x_train = dataset(0, nv_train, mel_train, bcc_train)\n",
    "_x_train = _x_train.reshape((_x_train.shape[0],75,100,1))\n",
    "_x_test = dataset(1, nv_test, mel_test, bcc_test)\n",
    "_x_test = _x_test.reshape((_x_test.shape[0],75,100,1))\n",
    "_y_train = np.array([0, 1, 2]*nv_train.shape[0])\n",
    "_y_test = np.array([0, 1, 2]*nv_test.shape[0])\n",
    "\n",
    "\n",
    "x_train_mean = np.mean(_x_train)\n",
    "x_test_mean = np.mean(_x_test)\n",
    "x_train_std = np.std(_x_train)\n",
    "x_test_std = np.std(_x_test)\n",
    "\n",
    "x_train = (_x_train - x_train_mean)/x_train_std\n",
    "x_test = (_x_test - x_test_mean)/x_test_std\n",
    "y_train = to_categorical(_y_train)\n",
    "y_test = to_categorical(_y_test)\n",
    "\n",
    "x_train, x_validate, y_train, y_validate = train_test_split(x_train, y_train, test_size = 0.1, random_state = 2)"
   ]
  },
  {
   "cell_type": "code",
   "execution_count": 43,
   "metadata": {},
   "outputs": [
    {
     "name": "stdout",
     "output_type": "stream",
     "text": [
      "\n",
      "Dataset shape\n",
      "x_train: (291, 75, 100, 1) |-> y_train: (291, 3),\n",
      "x_test: (84, 75, 100, 1) |-> y_test: (84, 3),\n",
      "x_validate: (33, 75, 100, 1) |-> y_validate: (33, 3)\n"
     ]
    }
   ],
   "source": [
    "print(f'''\n",
    "Dataset shape\n",
    "x_train: {x_train.shape} |-> y_train: {y_train.shape},\n",
    "x_test: {x_test.shape} |-> y_test: {y_test.shape},\n",
    "x_validate: {x_validate.shape} |-> y_validate: {y_validate.shape}''')"
   ]
  },
  {
   "cell_type": "code",
   "execution_count": 46,
   "metadata": {},
   "outputs": [],
   "source": [
    "model = Sequential()\n",
    "model.add(Conv2D(32, (3,3), padding='same', input_shape=x_train.shape[1:]))\n",
    "model.add(Conv2D(64, (3,3), padding='same'))\n",
    "model.add(Activation('relu'))\n",
    "model.add(MaxPooling2D((2,2)))\n",
    "# model.add(BatchNormalization())\n",
    "model.add(Dropout(0.2))\n",
    "\n",
    "model.add(Conv2D(64, (4,4), padding='same'))\n",
    "model.add(Activation('relu'))\n",
    "model.add(MaxPooling2D((2,2)))\n",
    "# model.add(BatchNormalization())\n",
    "model.add(Dropout(0.2))\n",
    "\n",
    "model.add(Flatten())\n",
    "model.add(Dense(64))\n",
    "model.add(Activation('relu'))\n",
    "model.add(Dropout(0.5))\n",
    "model.add(Dense(num_classes))\n",
    "model.add(Activation('softmax'))\n",
    "\n",
    "es = EarlyStopping(monitor='val_loss', patience=10, verbose=0, mode='min')\n",
    "# opt = keras.optimizers.rmsprop(lr=0.0001, decay=1e-6)\n",
    "opt = keras.optimizers.rmsprop()\n",
    "model.compile(loss='categorical_crossentropy',\n",
    "              optimizer=opt,\n",
    "              metrics=['accuracy'])"
   ]
  },
  {
   "cell_type": "code",
   "execution_count": 48,
   "metadata": {},
   "outputs": [
    {
     "name": "stdout",
     "output_type": "stream",
     "text": [
      "Train on 291 samples, validate on 84 samples\n",
      "Epoch 1/100\n",
      "291/291 [==============================] - 3s 10ms/step - loss: 1.9729 - acc: 0.3333 - val_loss: 8.0958 - val_acc: 0.3333\n",
      "Epoch 2/100\n",
      "291/291 [==============================] - 0s 339us/step - loss: 7.3341 - acc: 0.3402 - val_loss: 1.1183 - val_acc: 0.3333\n",
      "Epoch 3/100\n",
      "291/291 [==============================] - 0s 343us/step - loss: 1.1341 - acc: 0.3402 - val_loss: 1.1059 - val_acc: 0.4524\n",
      "Epoch 4/100\n",
      "291/291 [==============================] - 0s 342us/step - loss: 1.0718 - acc: 0.4708 - val_loss: 1.0531 - val_acc: 0.4524\n",
      "Epoch 5/100\n",
      "291/291 [==============================] - 0s 339us/step - loss: 0.9539 - acc: 0.5601 - val_loss: 1.2317 - val_acc: 0.4405\n",
      "Epoch 6/100\n",
      "291/291 [==============================] - 0s 341us/step - loss: 1.0592 - acc: 0.4914 - val_loss: 0.9947 - val_acc: 0.5357\n",
      "Epoch 7/100\n",
      "291/291 [==============================] - 0s 341us/step - loss: 0.8844 - acc: 0.6254 - val_loss: 1.0527 - val_acc: 0.4762\n",
      "Epoch 8/100\n",
      "291/291 [==============================] - 0s 342us/step - loss: 0.9043 - acc: 0.6117 - val_loss: 0.9440 - val_acc: 0.5119\n",
      "Epoch 9/100\n",
      "291/291 [==============================] - 0s 341us/step - loss: 0.8666 - acc: 0.5498 - val_loss: 0.9089 - val_acc: 0.5595\n",
      "Epoch 10/100\n",
      "291/291 [==============================] - 0s 343us/step - loss: 0.8568 - acc: 0.6323 - val_loss: 0.8606 - val_acc: 0.6310\n",
      "Epoch 11/100\n",
      "291/291 [==============================] - 0s 343us/step - loss: 0.7865 - acc: 0.6976 - val_loss: 1.1848 - val_acc: 0.5000\n",
      "Epoch 12/100\n",
      "291/291 [==============================] - 0s 340us/step - loss: 1.0953 - acc: 0.5361 - val_loss: 0.8749 - val_acc: 0.5714\n",
      "Epoch 13/100\n",
      "291/291 [==============================] - 0s 344us/step - loss: 0.7910 - acc: 0.6942 - val_loss: 0.8689 - val_acc: 0.6071\n",
      "Epoch 14/100\n",
      "291/291 [==============================] - 0s 379us/step - loss: 0.6939 - acc: 0.7045 - val_loss: 0.8205 - val_acc: 0.6429\n",
      "Epoch 15/100\n",
      "291/291 [==============================] - 0s 350us/step - loss: 0.7321 - acc: 0.7285 - val_loss: 0.8208 - val_acc: 0.6190\n",
      "Epoch 16/100\n",
      "291/291 [==============================] - 0s 350us/step - loss: 0.7025 - acc: 0.7045 - val_loss: 0.8793 - val_acc: 0.5833\n",
      "Epoch 17/100\n",
      "291/291 [==============================] - 0s 347us/step - loss: 0.9446 - acc: 0.5945 - val_loss: 1.2096 - val_acc: 0.4643\n",
      "Epoch 18/100\n",
      "291/291 [==============================] - 0s 340us/step - loss: 1.1249 - acc: 0.5704 - val_loss: 0.8222 - val_acc: 0.6310\n",
      "Epoch 19/100\n",
      "291/291 [==============================] - 0s 345us/step - loss: 0.7244 - acc: 0.7216 - val_loss: 0.7909 - val_acc: 0.6190\n",
      "Epoch 20/100\n",
      "291/291 [==============================] - 0s 344us/step - loss: 0.6786 - acc: 0.7113 - val_loss: 0.7433 - val_acc: 0.6667\n",
      "Epoch 21/100\n",
      "291/291 [==============================] - 0s 343us/step - loss: 0.6683 - acc: 0.7491 - val_loss: 0.8864 - val_acc: 0.6190\n",
      "Epoch 22/100\n",
      "291/291 [==============================] - 0s 351us/step - loss: 0.8606 - acc: 0.6529 - val_loss: 0.8322 - val_acc: 0.6071\n",
      "Epoch 23/100\n",
      "291/291 [==============================] - 0s 341us/step - loss: 0.7538 - acc: 0.6254 - val_loss: 0.8203 - val_acc: 0.6310\n",
      "Epoch 24/100\n",
      "291/291 [==============================] - 0s 336us/step - loss: 0.6935 - acc: 0.7079 - val_loss: 0.7844 - val_acc: 0.6310\n",
      "Epoch 25/100\n",
      "291/291 [==============================] - 0s 350us/step - loss: 0.6904 - acc: 0.7216 - val_loss: 0.7559 - val_acc: 0.6786\n",
      "Epoch 26/100\n",
      "291/291 [==============================] - 0s 341us/step - loss: 0.6082 - acc: 0.7904 - val_loss: 0.7442 - val_acc: 0.6905\n",
      "Epoch 27/100\n",
      "291/291 [==============================] - 0s 343us/step - loss: 0.5920 - acc: 0.7285 - val_loss: 0.7522 - val_acc: 0.6548\n",
      "Epoch 28/100\n",
      "291/291 [==============================] - 0s 353us/step - loss: 0.6643 - acc: 0.6942 - val_loss: 0.9117 - val_acc: 0.5119\n",
      "Epoch 29/100\n",
      "291/291 [==============================] - 0s 346us/step - loss: 0.7598 - acc: 0.6770 - val_loss: 0.7003 - val_acc: 0.7143\n",
      "Epoch 30/100\n",
      "291/291 [==============================] - 0s 348us/step - loss: 0.5202 - acc: 0.8110 - val_loss: 0.7830 - val_acc: 0.6667\n",
      "Epoch 31/100\n",
      "291/291 [==============================] - 0s 345us/step - loss: 0.7431 - acc: 0.7113 - val_loss: 0.7801 - val_acc: 0.6429\n",
      "Epoch 32/100\n",
      "291/291 [==============================] - 0s 345us/step - loss: 0.6953 - acc: 0.6598 - val_loss: 0.7333 - val_acc: 0.6905\n",
      "Epoch 33/100\n",
      "291/291 [==============================] - 0s 345us/step - loss: 0.5718 - acc: 0.7595 - val_loss: 0.7267 - val_acc: 0.7024\n",
      "Epoch 34/100\n",
      "291/291 [==============================] - 0s 345us/step - loss: 0.5043 - acc: 0.8076 - val_loss: 0.7601 - val_acc: 0.7024\n",
      "Epoch 35/100\n",
      "291/291 [==============================] - 0s 346us/step - loss: 0.6578 - acc: 0.7320 - val_loss: 0.9180 - val_acc: 0.5833\n",
      "Epoch 36/100\n",
      "291/291 [==============================] - 0s 347us/step - loss: 0.7706 - acc: 0.6976 - val_loss: 0.7149 - val_acc: 0.6905\n",
      "Epoch 37/100\n",
      "291/291 [==============================] - 0s 336us/step - loss: 0.5407 - acc: 0.7698 - val_loss: 0.7238 - val_acc: 0.6667\n",
      "Epoch 38/100\n",
      "291/291 [==============================] - 0s 352us/step - loss: 0.5533 - acc: 0.7938 - val_loss: 0.7248 - val_acc: 0.6786\n",
      "Epoch 39/100\n",
      "291/291 [==============================] - 0s 338us/step - loss: 0.5822 - acc: 0.7457 - val_loss: 0.7013 - val_acc: 0.7262\n",
      "Test loss: 0.701317032178243\n",
      "Test accuracy: 0.7261904733521598\n"
     ]
    }
   ],
   "source": [
    "history = model.fit(x_train,\n",
    "                    y_train,\n",
    "                    batch_size=batch_size,\n",
    "                    epochs=epochs,\n",
    "                    validation_data=(x_test, y_test),\n",
    "                    callbacks=[es])\n",
    "\n",
    "model.save('nv_cancer_cnn_raw_age_gray.h5')\n",
    "score = model.evaluate(x_test, y_test, verbose=0)\n",
    "print('Test loss:', score[0])\n",
    "print('Test accuracy:', score[1])"
   ]
  },
  {
   "cell_type": "code",
   "execution_count": 49,
   "metadata": {},
   "outputs": [
    {
     "data": {
      "image/png": "[encoded data removed]",
      "text/plain": [
       "<matplotlib.figure.Figure at 0x7f273fb01ac8>"
      ]
     },
     "metadata": {},
     "output_type": "display_data"
    },
    {
     "data": {
      "image/png": "[encoded data removed]",
      "text/plain": [
       "<matplotlib.figure.Figure at 0x7f273fb01cc0>"
      ]
     },
     "metadata": {},
     "output_type": "display_data"
    }
   ],
   "source": [
    "plot_history_lost(history)\n",
    "plot_history_acc(history)"
   ]
  },
  {
   "cell_type": "code",
   "execution_count": 54,
   "metadata": {},
   "outputs": [
    {
     "name": "stdout",
     "output_type": "stream",
     "text": [
      "The number of correct answers:  2175\n",
      "The number of mistakes:  825\n",
      "A correct answer rate:  72.5 %\n"
     ]
    }
   ],
   "source": [
    "right = 0\n",
    "mistake = 0\n",
    "\n",
    "for j in range(30):\n",
    "    index = np.zeros(100)\n",
    "    for i in range(100):\n",
    "        index[i] += random.randint(0,x_validate.shape[0]-1)\n",
    "\n",
    "    for i in range(100):\n",
    "        num = int(index[i])\n",
    "        image = x_validate[num]\n",
    "        for k in [0,1,2]:\n",
    "            if y_validate[num][k] == 1:\n",
    "                ans = k\n",
    "        data = x_validate[num].reshape((1, 75, 100, 1))\n",
    "\n",
    "        pred = model.predict(data, batch_size=64)\n",
    "        bestnum  = 0.0\n",
    "        bestclass = 0\n",
    "        for n in [0,1,2]:\n",
    "            if bestnum < pred[0][n]:\n",
    "                bestnum = pred[0][n]\n",
    "                bestclass = n\n",
    "\n",
    "        if bestclass == ans:\n",
    "            right += 1\n",
    "        else:\n",
    "            mistake += 1\n",
    "        \n",
    "print(\"The number of correct answers: \", right)\n",
    "print(\"The number of mistakes: \", mistake)\n",
    "print (\"A correct answer rate: \", right/(mistake + right) * 100, '%')"
   ]
  },
  {
   "cell_type": "code",
   "execution_count": 55,
   "metadata": {},
   "outputs": [
    {
     "name": "stdout",
     "output_type": "stream",
     "text": [
      "nv2_1.jpg:nv\n",
      "nv6_1.jpg:nv\n",
      "\u001b[31mmel8_1.jpg:nv\u001b[0m\n",
      "mel1_1.jpg:mel\n",
      "\u001b[31mbcc2_1.jpg:nv\u001b[0m\n",
      "\u001b[31mmel15_1.jpg:nv\u001b[0m\n",
      "\u001b[31mbcc9_1.jpg:nv\u001b[0m\n",
      "bcc3_1.jpg:bcc\n",
      "\u001b[31mbcc16_1.jpg:nv\u001b[0m\n",
      "nv0_1.jpg:nv\n",
      "\u001b[31mbcc13_1.jpg:nv\u001b[0m\n",
      "\u001b[31mbcc17_1.jpg:nv\u001b[0m\n",
      "mel3_1.jpg:mel\n",
      "\u001b[31mmel13_1.jpg:nv\u001b[0m\n",
      "\u001b[31mnv1_1.jpg:mel\u001b[0m\n",
      "\u001b[31mmel16_1.jpg:nv\u001b[0m\n",
      "nv4_1.jpg:nv\n",
      "\u001b[31mmel5_1.jpg:nv\u001b[0m\n",
      "bcc15_1.jpg:bcc\n",
      "\u001b[31mmel18_1.jpg:bcc\u001b[0m\n",
      "\u001b[31mmel0_1.jpg:nv\u001b[0m\n",
      "\u001b[31mbcc12_1.jpg:nv\u001b[0m\n",
      "bcc18_1.jpg:bcc\n",
      "\u001b[31mbcc14_1.jpg:mel\u001b[0m\n",
      "\u001b[31mmel6_1.jpg:nv\u001b[0m\n",
      "\u001b[31mbcc8_1.jpg:nv\u001b[0m\n",
      "\u001b[31mnv7_1.jpg:bcc\u001b[0m\n",
      "\u001b[31mmel4_1.jpg:nv\u001b[0m\n",
      "\u001b[31mbcc5_1.jpg:nv\u001b[0m\n",
      "\u001b[31mbcc6_1.jpg:nv\u001b[0m\n",
      "\u001b[31mbcc0_1.jpg:nv\u001b[0m\n",
      "\u001b[31mbcc1_1.jpg:mel\u001b[0m\n",
      "\u001b[31mbcc11_1.jpg:mel\u001b[0m\n",
      "\u001b[31mbcc10_1.jpg:nv\u001b[0m\n",
      "\u001b[31mnv8_1.jpg:mel\u001b[0m\n",
      "mel17_1.jpg:mel\n",
      "nv5_1.jpg:nv\n",
      "bcc4_1.jpg:bcc\n",
      "\u001b[31mbcc7_1.jpg:nv\u001b[0m\n",
      "\u001b[31mmel7_1.jpg:nv\u001b[0m\n",
      "\u001b[31mmel10_1.jpg:nv\u001b[0m\n",
      "\u001b[31mmel12_1.jpg:nv\u001b[0m\n",
      "\u001b[31mmel9_1.jpg:nv\u001b[0m\n",
      "\u001b[31mmel11_1.jpg:nv\u001b[0m\n",
      "nv3_1.jpg:nv\n",
      "\u001b[31mmel2_1.jpg:nv\u001b[0m\n",
      "bcc19_1.jpg:bcc\n",
      "\u001b[31mnv9_1.jpg:bcc\u001b[0m\n",
      "\u001b[31mmel14_1.jpg:nv\u001b[0m\n",
      "acc:28.57142857142857%\n"
     ]
    }
   ],
   "source": [
    "sample_files = glob.glob('./dataset/img/sample/all/*')\n",
    "\n",
    "right = 0\n",
    "wrong = 0\n",
    "for sample_file in sample_files:\n",
    "    sample_img = np.array((Image.open(sample_file)).convert('L'))\n",
    "#     sample_img = np.array((Image.open(sample_file)))\n",
    "    norm_img = (sample_img - np.mean(sample_img))/np.std(sample_img)\n",
    "    sample_data = norm_img.reshape((1, 75, 100, 1))\n",
    "    pred = model.predict(sample_data)\n",
    "    bestnum  = 0.0\n",
    "    bestclass = 0\n",
    "    for n in [0,1,2]:\n",
    "        if bestnum < pred[0][n]:\n",
    "            bestnum = pred[0][n]\n",
    "            bestclass = n\n",
    "    if sample_file[25:26] == 'n':\n",
    "        ans = 0\n",
    "    elif sample_file[25:26] == 'm':\n",
    "        ans = 1\n",
    "    else:\n",
    "        ans = 2\n",
    "    if ans == bestclass:\n",
    "        print(f'{sample_file[25:]}:{data_type[bestclass]}')\n",
    "        right += 1\n",
    "    else:\n",
    "        print(colored(f'{sample_file[25:]}:{data_type[bestclass]}', 'red'))\n",
    "        wrong += 1\n",
    "acc = right / (right + wrong) * 100\n",
    "print(f'acc:{acc}%')"
   ]
  },
  {
   "cell_type": "code",
   "execution_count": null,
   "metadata": {},
   "outputs": [],
   "source": []
  }
 ],
 "metadata": {
  "kernelspec": {
   "display_name": "Python 3",
   "language": "python",
   "name": "python3"
  },
  "language_info": {
   "codemirror_mode": {
    "name": "ipython",
    "version": 3
   },
   "file_extension": ".py",
   "mimetype": "text/x-python",
   "name": "python",
   "nbconvert_exporter": "python",
   "pygments_lexer": "ipython3",
   "version": "3.6.6"
  }
 },
 "nbformat": 4,
 "nbformat_minor": 2
}
